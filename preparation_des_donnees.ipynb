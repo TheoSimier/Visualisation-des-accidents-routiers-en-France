{
 "cells": [
  {
   "cell_type": "markdown",
   "metadata": {},
   "source": [
    "# imports"
   ]
  },
  {
   "cell_type": "markdown",
   "metadata": {},
   "source": [
    "## Librairies"
   ]
  },
  {
   "cell_type": "code",
   "execution_count": 127,
   "metadata": {
    "ExecuteTime": {
     "end_time": "2019-04-05T07:46:53.148985Z",
     "start_time": "2019-04-05T07:46:53.137560Z"
    }
   },
   "outputs": [],
   "source": [
    "import numpy as np\n",
    "import pandas as pd\n",
    "import os"
   ]
  },
  {
   "cell_type": "code",
   "execution_count": 128,
   "metadata": {
    "ExecuteTime": {
     "end_time": "2019-04-05T07:46:53.178549Z",
     "start_time": "2019-04-05T07:46:53.173869Z"
    }
   },
   "outputs": [],
   "source": [
    "os.chdir('C:\\\\Users\\\\theos\\\\Documents\\\\ETUDES\\\\EDHEC_MSc\\\\data_visualization\\\\project_data_viz')"
   ]
  },
  {
   "cell_type": "markdown",
   "metadata": {
    "ExecuteTime": {
     "end_time": "2019-03-09T16:10:15.626725Z",
     "start_time": "2019-03-09T16:10:15.624720Z"
    }
   },
   "source": [
    "## Data"
   ]
  },
  {
   "cell_type": "markdown",
   "metadata": {},
   "source": [
    "### import lieux"
   ]
  },
  {
   "cell_type": "code",
   "execution_count": 129,
   "metadata": {
    "ExecuteTime": {
     "end_time": "2019-04-05T07:46:53.198351Z",
     "start_time": "2019-04-05T07:46:53.194358Z"
    }
   },
   "outputs": [],
   "source": [
    "os.chdir('lieux')"
   ]
  },
  {
   "cell_type": "code",
   "execution_count": 130,
   "metadata": {
    "ExecuteTime": {
     "end_time": "2019-04-05T07:46:54.673939Z",
     "start_time": "2019-04-05T07:46:53.213792Z"
    }
   },
   "outputs": [
    {
     "name": "stderr",
     "output_type": "stream",
     "text": [
      "C:\\anaconda\\lib\\site-packages\\IPython\\core\\interactiveshell.py:2785: DtypeWarning: Columns (2) have mixed types. Specify dtype option on import or set low_memory=False.\n",
      "  interactivity=interactivity, compiler=compiler, result=result)\n"
     ]
    },
    {
     "data": {
      "text/html": [
       "<div>\n",
       "<style scoped>\n",
       "    .dataframe tbody tr th:only-of-type {\n",
       "        vertical-align: middle;\n",
       "    }\n",
       "\n",
       "    .dataframe tbody tr th {\n",
       "        vertical-align: top;\n",
       "    }\n",
       "\n",
       "    .dataframe thead th {\n",
       "        text-align: right;\n",
       "    }\n",
       "</style>\n",
       "<table border=\"1\" class=\"dataframe\">\n",
       "  <thead>\n",
       "    <tr style=\"text-align: right;\">\n",
       "      <th></th>\n",
       "      <th>Num_Acc</th>\n",
       "      <th>catr</th>\n",
       "      <th>voie</th>\n",
       "      <th>v1</th>\n",
       "      <th>v2</th>\n",
       "      <th>circ</th>\n",
       "      <th>nbv</th>\n",
       "      <th>pr</th>\n",
       "      <th>pr1</th>\n",
       "      <th>vosp</th>\n",
       "      <th>prof</th>\n",
       "      <th>plan</th>\n",
       "      <th>lartpc</th>\n",
       "      <th>larrout</th>\n",
       "      <th>surf</th>\n",
       "      <th>infra</th>\n",
       "      <th>situ</th>\n",
       "      <th>env1</th>\n",
       "    </tr>\n",
       "  </thead>\n",
       "  <tbody>\n",
       "    <tr>\n",
       "      <th>0</th>\n",
       "      <td>201000000001</td>\n",
       "      <td>3</td>\n",
       "      <td>39</td>\n",
       "      <td>NaN</td>\n",
       "      <td>NaN</td>\n",
       "      <td>2.0</td>\n",
       "      <td>2.0</td>\n",
       "      <td>0.0</td>\n",
       "      <td>0.0</td>\n",
       "      <td>0.0</td>\n",
       "      <td>1.0</td>\n",
       "      <td>1.0</td>\n",
       "      <td>0.0</td>\n",
       "      <td>60.0</td>\n",
       "      <td>1.0</td>\n",
       "      <td>0.0</td>\n",
       "      <td>1.0</td>\n",
       "      <td>0.0</td>\n",
       "    </tr>\n",
       "    <tr>\n",
       "      <th>1</th>\n",
       "      <td>201000000002</td>\n",
       "      <td>3</td>\n",
       "      <td>39</td>\n",
       "      <td>NaN</td>\n",
       "      <td>NaN</td>\n",
       "      <td>2.0</td>\n",
       "      <td>0.0</td>\n",
       "      <td>0.0</td>\n",
       "      <td>0.0</td>\n",
       "      <td>0.0</td>\n",
       "      <td>1.0</td>\n",
       "      <td>1.0</td>\n",
       "      <td>0.0</td>\n",
       "      <td>0.0</td>\n",
       "      <td>1.0</td>\n",
       "      <td>0.0</td>\n",
       "      <td>1.0</td>\n",
       "      <td>0.0</td>\n",
       "    </tr>\n",
       "    <tr>\n",
       "      <th>2</th>\n",
       "      <td>201000000003</td>\n",
       "      <td>3</td>\n",
       "      <td>41</td>\n",
       "      <td>2.0</td>\n",
       "      <td>NaN</td>\n",
       "      <td>2.0</td>\n",
       "      <td>2.0</td>\n",
       "      <td>0.0</td>\n",
       "      <td>0.0</td>\n",
       "      <td>0.0</td>\n",
       "      <td>1.0</td>\n",
       "      <td>1.0</td>\n",
       "      <td>0.0</td>\n",
       "      <td>61.0</td>\n",
       "      <td>1.0</td>\n",
       "      <td>0.0</td>\n",
       "      <td>1.0</td>\n",
       "      <td>0.0</td>\n",
       "    </tr>\n",
       "    <tr>\n",
       "      <th>3</th>\n",
       "      <td>201000000004</td>\n",
       "      <td>3</td>\n",
       "      <td>39</td>\n",
       "      <td>NaN</td>\n",
       "      <td>NaN</td>\n",
       "      <td>2.0</td>\n",
       "      <td>2.0</td>\n",
       "      <td>0.0</td>\n",
       "      <td>0.0</td>\n",
       "      <td>0.0</td>\n",
       "      <td>1.0</td>\n",
       "      <td>1.0</td>\n",
       "      <td>0.0</td>\n",
       "      <td>68.0</td>\n",
       "      <td>1.0</td>\n",
       "      <td>0.0</td>\n",
       "      <td>1.0</td>\n",
       "      <td>0.0</td>\n",
       "    </tr>\n",
       "    <tr>\n",
       "      <th>4</th>\n",
       "      <td>201000000005</td>\n",
       "      <td>3</td>\n",
       "      <td>239</td>\n",
       "      <td>NaN</td>\n",
       "      <td>NaN</td>\n",
       "      <td>2.0</td>\n",
       "      <td>1.0</td>\n",
       "      <td>0.0</td>\n",
       "      <td>0.0</td>\n",
       "      <td>0.0</td>\n",
       "      <td>1.0</td>\n",
       "      <td>1.0</td>\n",
       "      <td>0.0</td>\n",
       "      <td>0.0</td>\n",
       "      <td>1.0</td>\n",
       "      <td>0.0</td>\n",
       "      <td>1.0</td>\n",
       "      <td>99.0</td>\n",
       "    </tr>\n",
       "  </tbody>\n",
       "</table>\n",
       "</div>"
      ],
      "text/plain": [
       "        Num_Acc  catr voie   v1   v2  circ  nbv   pr  pr1  vosp  prof  plan  \\\n",
       "0  201000000001     3   39  NaN  NaN   2.0  2.0  0.0  0.0   0.0   1.0   1.0   \n",
       "1  201000000002     3   39  NaN  NaN   2.0  0.0  0.0  0.0   0.0   1.0   1.0   \n",
       "2  201000000003     3   41  2.0  NaN   2.0  2.0  0.0  0.0   0.0   1.0   1.0   \n",
       "3  201000000004     3   39  NaN  NaN   2.0  2.0  0.0  0.0   0.0   1.0   1.0   \n",
       "4  201000000005     3  239  NaN  NaN   2.0  1.0  0.0  0.0   0.0   1.0   1.0   \n",
       "\n",
       "   lartpc  larrout  surf  infra  situ  env1  \n",
       "0     0.0     60.0   1.0    0.0   1.0   0.0  \n",
       "1     0.0      0.0   1.0    0.0   1.0   0.0  \n",
       "2     0.0     61.0   1.0    0.0   1.0   0.0  \n",
       "3     0.0     68.0   1.0    0.0   1.0   0.0  \n",
       "4     0.0      0.0   1.0    0.0   1.0  99.0  "
      ]
     },
     "execution_count": 130,
     "metadata": {},
     "output_type": "execute_result"
    }
   ],
   "source": [
    "file_list = list()\n",
    "for file in os.listdir():\n",
    "    df = pd.read_csv(file)\n",
    "    file_list.append(df)\n",
    "    \n",
    "df_lieux = pd.concat(file_list, axis=0, ignore_index=True)\n",
    "df_lieux.head()"
   ]
  },
  {
   "cell_type": "markdown",
   "metadata": {
    "ExecuteTime": {
     "end_time": "2019-03-09T17:59:31.321124Z",
     "start_time": "2019-03-09T17:59:31.305504Z"
    }
   },
   "source": [
    "### import vehicules"
   ]
  },
  {
   "cell_type": "code",
   "execution_count": 131,
   "metadata": {
    "ExecuteTime": {
     "end_time": "2019-04-05T07:46:54.685908Z",
     "start_time": "2019-04-05T07:46:54.677929Z"
    }
   },
   "outputs": [],
   "source": [
    "os.chdir('../vehicules')"
   ]
  },
  {
   "cell_type": "code",
   "execution_count": 132,
   "metadata": {
    "ExecuteTime": {
     "end_time": "2019-04-05T07:46:56.296599Z",
     "start_time": "2019-04-05T07:46:54.689896Z"
    }
   },
   "outputs": [
    {
     "data": {
      "text/html": [
       "<div>\n",
       "<style scoped>\n",
       "    .dataframe tbody tr th:only-of-type {\n",
       "        vertical-align: middle;\n",
       "    }\n",
       "\n",
       "    .dataframe tbody tr th {\n",
       "        vertical-align: top;\n",
       "    }\n",
       "\n",
       "    .dataframe thead th {\n",
       "        text-align: right;\n",
       "    }\n",
       "</style>\n",
       "<table border=\"1\" class=\"dataframe\">\n",
       "  <thead>\n",
       "    <tr style=\"text-align: right;\">\n",
       "      <th></th>\n",
       "      <th>Num_Acc</th>\n",
       "      <th>senc</th>\n",
       "      <th>catv</th>\n",
       "      <th>occutc</th>\n",
       "      <th>obs</th>\n",
       "      <th>obsm</th>\n",
       "      <th>choc</th>\n",
       "      <th>manv</th>\n",
       "      <th>num_veh</th>\n",
       "    </tr>\n",
       "  </thead>\n",
       "  <tbody>\n",
       "    <tr>\n",
       "      <th>0</th>\n",
       "      <td>201000000001</td>\n",
       "      <td>0.0</td>\n",
       "      <td>30</td>\n",
       "      <td>0</td>\n",
       "      <td>1.0</td>\n",
       "      <td>0.0</td>\n",
       "      <td>1.0</td>\n",
       "      <td>1.0</td>\n",
       "      <td>A01</td>\n",
       "    </tr>\n",
       "    <tr>\n",
       "      <th>1</th>\n",
       "      <td>201000000002</td>\n",
       "      <td>0.0</td>\n",
       "      <td>7</td>\n",
       "      <td>0</td>\n",
       "      <td>0.0</td>\n",
       "      <td>1.0</td>\n",
       "      <td>1.0</td>\n",
       "      <td>1.0</td>\n",
       "      <td>A01</td>\n",
       "    </tr>\n",
       "    <tr>\n",
       "      <th>2</th>\n",
       "      <td>201000000003</td>\n",
       "      <td>0.0</td>\n",
       "      <td>33</td>\n",
       "      <td>0</td>\n",
       "      <td>0.0</td>\n",
       "      <td>2.0</td>\n",
       "      <td>1.0</td>\n",
       "      <td>17.0</td>\n",
       "      <td>A01</td>\n",
       "    </tr>\n",
       "    <tr>\n",
       "      <th>3</th>\n",
       "      <td>201000000003</td>\n",
       "      <td>0.0</td>\n",
       "      <td>7</td>\n",
       "      <td>0</td>\n",
       "      <td>0.0</td>\n",
       "      <td>9.0</td>\n",
       "      <td>3.0</td>\n",
       "      <td>23.0</td>\n",
       "      <td>C03</td>\n",
       "    </tr>\n",
       "    <tr>\n",
       "      <th>4</th>\n",
       "      <td>201000000003</td>\n",
       "      <td>0.0</td>\n",
       "      <td>7</td>\n",
       "      <td>0</td>\n",
       "      <td>0.0</td>\n",
       "      <td>9.0</td>\n",
       "      <td>6.0</td>\n",
       "      <td>1.0</td>\n",
       "      <td>B02</td>\n",
       "    </tr>\n",
       "  </tbody>\n",
       "</table>\n",
       "</div>"
      ],
      "text/plain": [
       "        Num_Acc  senc  catv  occutc  obs  obsm  choc  manv num_veh\n",
       "0  201000000001   0.0    30       0  1.0   0.0   1.0   1.0     A01\n",
       "1  201000000002   0.0     7       0  0.0   1.0   1.0   1.0     A01\n",
       "2  201000000003   0.0    33       0  0.0   2.0   1.0  17.0     A01\n",
       "3  201000000003   0.0     7       0  0.0   9.0   3.0  23.0     C03\n",
       "4  201000000003   0.0     7       0  0.0   9.0   6.0   1.0     B02"
      ]
     },
     "execution_count": 132,
     "metadata": {},
     "output_type": "execute_result"
    }
   ],
   "source": [
    "file_list = list()\n",
    "for file in os.listdir():\n",
    "    df = pd.read_csv(file)\n",
    "    file_list.append(df)\n",
    "    \n",
    "df_vehicules = pd.concat(file_list, axis=0, ignore_index=True)\n",
    "df_vehicules.head()"
   ]
  },
  {
   "cell_type": "markdown",
   "metadata": {
    "ExecuteTime": {
     "end_time": "2019-03-09T17:59:31.321124Z",
     "start_time": "2019-03-09T17:59:31.305504Z"
    }
   },
   "source": [
    "### import usagers"
   ]
  },
  {
   "cell_type": "code",
   "execution_count": 133,
   "metadata": {
    "ExecuteTime": {
     "end_time": "2019-04-05T07:46:56.324524Z",
     "start_time": "2019-04-05T07:46:56.305623Z"
    }
   },
   "outputs": [],
   "source": [
    "os.chdir('../usagers')"
   ]
  },
  {
   "cell_type": "code",
   "execution_count": 134,
   "metadata": {
    "ExecuteTime": {
     "end_time": "2019-04-05T07:46:58.570350Z",
     "start_time": "2019-04-05T07:46:56.338873Z"
    }
   },
   "outputs": [
    {
     "data": {
      "text/html": [
       "<div>\n",
       "<style scoped>\n",
       "    .dataframe tbody tr th:only-of-type {\n",
       "        vertical-align: middle;\n",
       "    }\n",
       "\n",
       "    .dataframe tbody tr th {\n",
       "        vertical-align: top;\n",
       "    }\n",
       "\n",
       "    .dataframe thead th {\n",
       "        text-align: right;\n",
       "    }\n",
       "</style>\n",
       "<table border=\"1\" class=\"dataframe\">\n",
       "  <thead>\n",
       "    <tr style=\"text-align: right;\">\n",
       "      <th></th>\n",
       "      <th>Num_Acc</th>\n",
       "      <th>place</th>\n",
       "      <th>catu</th>\n",
       "      <th>grav</th>\n",
       "      <th>sexe</th>\n",
       "      <th>trajet</th>\n",
       "      <th>secu</th>\n",
       "      <th>locp</th>\n",
       "      <th>actp</th>\n",
       "      <th>etatp</th>\n",
       "      <th>an_nais</th>\n",
       "      <th>num_veh</th>\n",
       "    </tr>\n",
       "  </thead>\n",
       "  <tbody>\n",
       "    <tr>\n",
       "      <th>0</th>\n",
       "      <td>201000000001</td>\n",
       "      <td>1.0</td>\n",
       "      <td>1</td>\n",
       "      <td>3</td>\n",
       "      <td>1</td>\n",
       "      <td>5.0</td>\n",
       "      <td>21.0</td>\n",
       "      <td>0.0</td>\n",
       "      <td>0.0</td>\n",
       "      <td>0.0</td>\n",
       "      <td>1976.0</td>\n",
       "      <td>A01</td>\n",
       "    </tr>\n",
       "    <tr>\n",
       "      <th>1</th>\n",
       "      <td>201000000002</td>\n",
       "      <td>1.0</td>\n",
       "      <td>1</td>\n",
       "      <td>1</td>\n",
       "      <td>2</td>\n",
       "      <td>5.0</td>\n",
       "      <td>11.0</td>\n",
       "      <td>0.0</td>\n",
       "      <td>0.0</td>\n",
       "      <td>0.0</td>\n",
       "      <td>1983.0</td>\n",
       "      <td>A01</td>\n",
       "    </tr>\n",
       "    <tr>\n",
       "      <th>2</th>\n",
       "      <td>201000000002</td>\n",
       "      <td>NaN</td>\n",
       "      <td>3</td>\n",
       "      <td>3</td>\n",
       "      <td>1</td>\n",
       "      <td>0.0</td>\n",
       "      <td>NaN</td>\n",
       "      <td>4.0</td>\n",
       "      <td>3.0</td>\n",
       "      <td>1.0</td>\n",
       "      <td>1965.0</td>\n",
       "      <td>A01</td>\n",
       "    </tr>\n",
       "    <tr>\n",
       "      <th>3</th>\n",
       "      <td>201000000003</td>\n",
       "      <td>1.0</td>\n",
       "      <td>1</td>\n",
       "      <td>3</td>\n",
       "      <td>1</td>\n",
       "      <td>5.0</td>\n",
       "      <td>23.0</td>\n",
       "      <td>0.0</td>\n",
       "      <td>0.0</td>\n",
       "      <td>0.0</td>\n",
       "      <td>1979.0</td>\n",
       "      <td>A01</td>\n",
       "    </tr>\n",
       "    <tr>\n",
       "      <th>4</th>\n",
       "      <td>201000000003</td>\n",
       "      <td>1.0</td>\n",
       "      <td>1</td>\n",
       "      <td>1</td>\n",
       "      <td>2</td>\n",
       "      <td>5.0</td>\n",
       "      <td>11.0</td>\n",
       "      <td>0.0</td>\n",
       "      <td>0.0</td>\n",
       "      <td>0.0</td>\n",
       "      <td>1959.0</td>\n",
       "      <td>C03</td>\n",
       "    </tr>\n",
       "  </tbody>\n",
       "</table>\n",
       "</div>"
      ],
      "text/plain": [
       "        Num_Acc  place  catu  grav  sexe  trajet  secu  locp  actp  etatp  \\\n",
       "0  201000000001    1.0     1     3     1     5.0  21.0   0.0   0.0    0.0   \n",
       "1  201000000002    1.0     1     1     2     5.0  11.0   0.0   0.0    0.0   \n",
       "2  201000000002    NaN     3     3     1     0.0   NaN   4.0   3.0    1.0   \n",
       "3  201000000003    1.0     1     3     1     5.0  23.0   0.0   0.0    0.0   \n",
       "4  201000000003    1.0     1     1     2     5.0  11.0   0.0   0.0    0.0   \n",
       "\n",
       "   an_nais num_veh  \n",
       "0   1976.0     A01  \n",
       "1   1983.0     A01  \n",
       "2   1965.0     A01  \n",
       "3   1979.0     A01  \n",
       "4   1959.0     C03  "
      ]
     },
     "execution_count": 134,
     "metadata": {},
     "output_type": "execute_result"
    }
   ],
   "source": [
    "file_list = list()\n",
    "for file in os.listdir():\n",
    "    df = pd.read_csv(file)\n",
    "    file_list.append(df)\n",
    "    \n",
    "df_usagers = pd.concat(file_list, axis=0, ignore_index=True)\n",
    "df_usagers.head()"
   ]
  },
  {
   "cell_type": "markdown",
   "metadata": {
    "ExecuteTime": {
     "end_time": "2019-03-09T17:59:31.321124Z",
     "start_time": "2019-03-09T17:59:31.305504Z"
    }
   },
   "source": [
    "### import caracteristiques"
   ]
  },
  {
   "cell_type": "code",
   "execution_count": 135,
   "metadata": {
    "ExecuteTime": {
     "end_time": "2019-04-05T07:46:58.587285Z",
     "start_time": "2019-04-05T07:46:58.574278Z"
    }
   },
   "outputs": [],
   "source": [
    "os.chdir('../caracteristiques')"
   ]
  },
  {
   "cell_type": "code",
   "execution_count": 136,
   "metadata": {
    "ExecuteTime": {
     "end_time": "2019-04-05T07:47:00.587277Z",
     "start_time": "2019-04-05T07:46:58.603270Z"
    }
   },
   "outputs": [
    {
     "data": {
      "text/html": [
       "<div>\n",
       "<style scoped>\n",
       "    .dataframe tbody tr th:only-of-type {\n",
       "        vertical-align: middle;\n",
       "    }\n",
       "\n",
       "    .dataframe tbody tr th {\n",
       "        vertical-align: top;\n",
       "    }\n",
       "\n",
       "    .dataframe thead th {\n",
       "        text-align: right;\n",
       "    }\n",
       "</style>\n",
       "<table border=\"1\" class=\"dataframe\">\n",
       "  <thead>\n",
       "    <tr style=\"text-align: right;\">\n",
       "      <th></th>\n",
       "      <th>Num_Acc</th>\n",
       "      <th>an</th>\n",
       "      <th>mois</th>\n",
       "      <th>jour</th>\n",
       "      <th>hrmn</th>\n",
       "      <th>lum</th>\n",
       "      <th>agg</th>\n",
       "      <th>int</th>\n",
       "      <th>atm</th>\n",
       "      <th>col</th>\n",
       "      <th>com</th>\n",
       "      <th>adr</th>\n",
       "      <th>gps</th>\n",
       "      <th>lat</th>\n",
       "      <th>long</th>\n",
       "      <th>dep</th>\n",
       "      <th>annee</th>\n",
       "    </tr>\n",
       "  </thead>\n",
       "  <tbody>\n",
       "    <tr>\n",
       "      <th>0</th>\n",
       "      <td>201000000001</td>\n",
       "      <td>10</td>\n",
       "      <td>6</td>\n",
       "      <td>12</td>\n",
       "      <td>1930</td>\n",
       "      <td>1</td>\n",
       "      <td>2</td>\n",
       "      <td>1</td>\n",
       "      <td>1.0</td>\n",
       "      <td>6.0</td>\n",
       "      <td>52</td>\n",
       "      <td>71 RUE JEAN JAURES</td>\n",
       "      <td>M</td>\n",
       "      <td>0.0</td>\n",
       "      <td>0.0</td>\n",
       "      <td>590</td>\n",
       "      <td>2010</td>\n",
       "    </tr>\n",
       "    <tr>\n",
       "      <th>1</th>\n",
       "      <td>201000000002</td>\n",
       "      <td>10</td>\n",
       "      <td>8</td>\n",
       "      <td>7</td>\n",
       "      <td>1000</td>\n",
       "      <td>1</td>\n",
       "      <td>2</td>\n",
       "      <td>1</td>\n",
       "      <td>1.0</td>\n",
       "      <td>6.0</td>\n",
       "      <td>477</td>\n",
       "      <td>Rue Nationale</td>\n",
       "      <td>M</td>\n",
       "      <td>5051600.0</td>\n",
       "      <td>292000.0</td>\n",
       "      <td>590</td>\n",
       "      <td>2010</td>\n",
       "    </tr>\n",
       "    <tr>\n",
       "      <th>2</th>\n",
       "      <td>201000000003</td>\n",
       "      <td>10</td>\n",
       "      <td>9</td>\n",
       "      <td>11</td>\n",
       "      <td>1600</td>\n",
       "      <td>1</td>\n",
       "      <td>1</td>\n",
       "      <td>1</td>\n",
       "      <td>1.0</td>\n",
       "      <td>5.0</td>\n",
       "      <td>11</td>\n",
       "      <td>NaN</td>\n",
       "      <td>M</td>\n",
       "      <td>0.0</td>\n",
       "      <td>0.0</td>\n",
       "      <td>590</td>\n",
       "      <td>2010</td>\n",
       "    </tr>\n",
       "    <tr>\n",
       "      <th>3</th>\n",
       "      <td>201000000004</td>\n",
       "      <td>10</td>\n",
       "      <td>9</td>\n",
       "      <td>22</td>\n",
       "      <td>1630</td>\n",
       "      <td>1</td>\n",
       "      <td>2</td>\n",
       "      <td>1</td>\n",
       "      <td>1.0</td>\n",
       "      <td>6.0</td>\n",
       "      <td>477</td>\n",
       "      <td>43 rue Nationale</td>\n",
       "      <td>M</td>\n",
       "      <td>5051800.0</td>\n",
       "      <td>292500.0</td>\n",
       "      <td>590</td>\n",
       "      <td>2010</td>\n",
       "    </tr>\n",
       "    <tr>\n",
       "      <th>4</th>\n",
       "      <td>201000000005</td>\n",
       "      <td>10</td>\n",
       "      <td>10</td>\n",
       "      <td>25</td>\n",
       "      <td>1215</td>\n",
       "      <td>1</td>\n",
       "      <td>2</td>\n",
       "      <td>1</td>\n",
       "      <td>1.0</td>\n",
       "      <td>2.0</td>\n",
       "      <td>52</td>\n",
       "      <td>RUE GHESQUIERES</td>\n",
       "      <td>M</td>\n",
       "      <td>5050800.0</td>\n",
       "      <td>289700.0</td>\n",
       "      <td>590</td>\n",
       "      <td>2010</td>\n",
       "    </tr>\n",
       "  </tbody>\n",
       "</table>\n",
       "</div>"
      ],
      "text/plain": [
       "        Num_Acc  an  mois  jour  hrmn  lum  agg  int  atm  col  com  \\\n",
       "0  201000000001  10     6    12  1930    1    2    1  1.0  6.0   52   \n",
       "1  201000000002  10     8     7  1000    1    2    1  1.0  6.0  477   \n",
       "2  201000000003  10     9    11  1600    1    1    1  1.0  5.0   11   \n",
       "3  201000000004  10     9    22  1630    1    2    1  1.0  6.0  477   \n",
       "4  201000000005  10    10    25  1215    1    2    1  1.0  2.0   52   \n",
       "\n",
       "                  adr gps        lat      long  dep  annee  \n",
       "0  71 RUE JEAN JAURES   M        0.0       0.0  590   2010  \n",
       "1       Rue Nationale   M  5051600.0  292000.0  590   2010  \n",
       "2                 NaN   M        0.0       0.0  590   2010  \n",
       "3    43 rue Nationale   M  5051800.0  292500.0  590   2010  \n",
       "4     RUE GHESQUIERES   M  5050800.0  289700.0  590   2010  "
      ]
     },
     "execution_count": 136,
     "metadata": {},
     "output_type": "execute_result"
    }
   ],
   "source": [
    "file_list = list()\n",
    "for file in os.listdir():\n",
    "    index_year = file.find('2')\n",
    "    year = int(file[index_year:index_year+4])\n",
    "    df = pd.read_csv(file,encoding = \"ISO-8859-1\")\n",
    "    df['annee'] = year\n",
    "    file_list.append(df)\n",
    "    \n",
    "df_caracteristiques = pd.concat(file_list, axis=0, ignore_index=True)\n",
    "df_caracteristiques.head()"
   ]
  },
  {
   "cell_type": "code",
   "execution_count": 137,
   "metadata": {
    "ExecuteTime": {
     "end_time": "2019-04-05T07:47:00.603234Z",
     "start_time": "2019-04-05T07:47:00.591311Z"
    }
   },
   "outputs": [],
   "source": [
    "os.chdir('..')"
   ]
  },
  {
   "cell_type": "markdown",
   "metadata": {
    "ExecuteTime": {
     "end_time": "2019-03-15T22:18:51.242218Z",
     "start_time": "2019-03-15T22:18:51.238065Z"
    }
   },
   "source": [
    "### Nombre d'habitant par département"
   ]
  },
  {
   "cell_type": "code",
   "execution_count": 138,
   "metadata": {
    "ExecuteTime": {
     "end_time": "2019-04-05T07:47:00.654140Z",
     "start_time": "2019-04-05T07:47:00.607221Z"
    }
   },
   "outputs": [
    {
     "data": {
      "text/html": [
       "<div>\n",
       "<style scoped>\n",
       "    .dataframe tbody tr th:only-of-type {\n",
       "        vertical-align: middle;\n",
       "    }\n",
       "\n",
       "    .dataframe tbody tr th {\n",
       "        vertical-align: top;\n",
       "    }\n",
       "\n",
       "    .dataframe thead th {\n",
       "        text-align: right;\n",
       "    }\n",
       "</style>\n",
       "<table border=\"1\" class=\"dataframe\">\n",
       "  <thead>\n",
       "    <tr style=\"text-align: right;\">\n",
       "      <th></th>\n",
       "      <th>code_insee</th>\n",
       "      <th>code</th>\n",
       "      <th>departement</th>\n",
       "      <th>population</th>\n",
       "    </tr>\n",
       "  </thead>\n",
       "  <tbody>\n",
       "    <tr>\n",
       "      <th>0</th>\n",
       "      <td>10</td>\n",
       "      <td>01</td>\n",
       "      <td>Ain</td>\n",
       "      <td>643906</td>\n",
       "    </tr>\n",
       "    <tr>\n",
       "      <th>1</th>\n",
       "      <td>20</td>\n",
       "      <td>02</td>\n",
       "      <td>Aisne</td>\n",
       "      <td>533679</td>\n",
       "    </tr>\n",
       "    <tr>\n",
       "      <th>2</th>\n",
       "      <td>30</td>\n",
       "      <td>03</td>\n",
       "      <td>Allier</td>\n",
       "      <td>337439</td>\n",
       "    </tr>\n",
       "    <tr>\n",
       "      <th>3</th>\n",
       "      <td>40</td>\n",
       "      <td>04</td>\n",
       "      <td>Alpes-De-Haute-Provence</td>\n",
       "      <td>162473</td>\n",
       "    </tr>\n",
       "    <tr>\n",
       "      <th>4</th>\n",
       "      <td>50</td>\n",
       "      <td>05</td>\n",
       "      <td>Hautes-Alpes</td>\n",
       "      <td>141390</td>\n",
       "    </tr>\n",
       "  </tbody>\n",
       "</table>\n",
       "</div>"
      ],
      "text/plain": [
       "   code_insee code              departement  population\n",
       "0          10   01                      Ain      643906\n",
       "1          20   02                    Aisne      533679\n",
       "2          30   03                   Allier      337439\n",
       "3          40   04  Alpes-De-Haute-Provence      162473\n",
       "4          50   05             Hautes-Alpes      141390"
      ]
     },
     "execution_count": 138,
     "metadata": {},
     "output_type": "execute_result"
    }
   ],
   "source": [
    "df_habitant = pd.read_excel('estimation-population-2017.xls')\n",
    "df_habitant.head()"
   ]
  },
  {
   "cell_type": "markdown",
   "metadata": {},
   "source": [
    "# Preparation data"
   ]
  },
  {
   "cell_type": "markdown",
   "metadata": {
    "ExecuteTime": {
     "end_time": "2019-03-09T18:30:55.479660Z",
     "start_time": "2019-03-09T18:30:55.464040Z"
    }
   },
   "source": [
    "## caracteristiques"
   ]
  },
  {
   "cell_type": "code",
   "execution_count": 139,
   "metadata": {
    "ExecuteTime": {
     "end_time": "2019-04-05T07:47:00.790731Z",
     "start_time": "2019-04-05T07:47:00.657091Z"
    }
   },
   "outputs": [],
   "source": [
    "# Selection useful columns\n",
    "df_caracteristiques = df_caracteristiques.loc[:,['Num_Acc','jour','mois','lum','dep','atm','col','lat','long','annee']]"
   ]
  },
  {
   "cell_type": "code",
   "execution_count": 140,
   "metadata": {
    "ExecuteTime": {
     "end_time": "2019-04-05T07:47:01.853888Z",
     "start_time": "2019-04-05T07:47:00.793724Z"
    }
   },
   "outputs": [],
   "source": [
    "# create date\n",
    "df_caracteristiques['date'] = df_caracteristiques['jour'].map(str) + '/' + df_caracteristiques['mois'].map(str) + '/' + df_caracteristiques['annee'].map(str)"
   ]
  },
  {
   "cell_type": "code",
   "execution_count": 141,
   "metadata": {
    "ExecuteTime": {
     "end_time": "2019-04-05T07:47:01.884806Z",
     "start_time": "2019-04-05T07:47:01.858875Z"
    }
   },
   "outputs": [],
   "source": [
    "# lattitude\n",
    "#df_caracteristiques['lat'] = df_caracteristiques['lat'].apply(lambda x: x/100000)\n",
    "df_caracteristiques['lat'] = df_caracteristiques['lat'].div(100000)"
   ]
  },
  {
   "cell_type": "code",
   "execution_count": 142,
   "metadata": {
    "ExecuteTime": {
     "end_time": "2019-04-05T07:47:01.925741Z",
     "start_time": "2019-04-05T07:47:01.889792Z"
    }
   },
   "outputs": [],
   "source": [
    "# longitude\n",
    "df_caracteristiques['long'] = df_caracteristiques['long'].div(100000)"
   ]
  },
  {
   "cell_type": "code",
   "execution_count": 143,
   "metadata": {
    "ExecuteTime": {
     "end_time": "2019-04-05T07:47:01.978555Z",
     "start_time": "2019-04-05T07:47:01.930684Z"
    }
   },
   "outputs": [],
   "source": [
    "df_caracteristiques = df_caracteristiques.drop(columns=['jour','mois'])"
   ]
  },
  {
   "cell_type": "code",
   "execution_count": 144,
   "metadata": {
    "ExecuteTime": {
     "end_time": "2019-04-05T07:47:02.057344Z",
     "start_time": "2019-04-05T07:47:01.982545Z"
    }
   },
   "outputs": [],
   "source": [
    "df_caracteristiques[['atm','col']] = df_caracteristiques[['atm','col']].astype('Int64')"
   ]
  },
  {
   "cell_type": "code",
   "execution_count": 145,
   "metadata": {
    "ExecuteTime": {
     "end_time": "2019-04-05T07:47:02.107210Z",
     "start_time": "2019-04-05T07:47:02.060337Z"
    }
   },
   "outputs": [],
   "source": [
    "df_caracteristiques.loc[df_caracteristiques['lat']==0,'lat']=np.nan\n",
    "df_caracteristiques.loc[df_caracteristiques['long']==0,'long']=np.nan"
   ]
  },
  {
   "cell_type": "code",
   "execution_count": 146,
   "metadata": {
    "ExecuteTime": {
     "end_time": "2019-04-05T07:47:02.135137Z",
     "start_time": "2019-04-05T07:47:02.110952Z"
    }
   },
   "outputs": [
    {
     "data": {
      "text/html": [
       "<div>\n",
       "<style scoped>\n",
       "    .dataframe tbody tr th:only-of-type {\n",
       "        vertical-align: middle;\n",
       "    }\n",
       "\n",
       "    .dataframe tbody tr th {\n",
       "        vertical-align: top;\n",
       "    }\n",
       "\n",
       "    .dataframe thead th {\n",
       "        text-align: right;\n",
       "    }\n",
       "</style>\n",
       "<table border=\"1\" class=\"dataframe\">\n",
       "  <thead>\n",
       "    <tr style=\"text-align: right;\">\n",
       "      <th></th>\n",
       "      <th>Num_Acc</th>\n",
       "      <th>lum</th>\n",
       "      <th>dep</th>\n",
       "      <th>atm</th>\n",
       "      <th>col</th>\n",
       "      <th>lat</th>\n",
       "      <th>long</th>\n",
       "      <th>annee</th>\n",
       "      <th>date</th>\n",
       "    </tr>\n",
       "  </thead>\n",
       "  <tbody>\n",
       "    <tr>\n",
       "      <th>0</th>\n",
       "      <td>201000000001</td>\n",
       "      <td>1</td>\n",
       "      <td>590</td>\n",
       "      <td>1</td>\n",
       "      <td>6</td>\n",
       "      <td>NaN</td>\n",
       "      <td>NaN</td>\n",
       "      <td>2010</td>\n",
       "      <td>12/6/2010</td>\n",
       "    </tr>\n",
       "    <tr>\n",
       "      <th>1</th>\n",
       "      <td>201000000002</td>\n",
       "      <td>1</td>\n",
       "      <td>590</td>\n",
       "      <td>1</td>\n",
       "      <td>6</td>\n",
       "      <td>50.516</td>\n",
       "      <td>2.920</td>\n",
       "      <td>2010</td>\n",
       "      <td>7/8/2010</td>\n",
       "    </tr>\n",
       "    <tr>\n",
       "      <th>2</th>\n",
       "      <td>201000000003</td>\n",
       "      <td>1</td>\n",
       "      <td>590</td>\n",
       "      <td>1</td>\n",
       "      <td>5</td>\n",
       "      <td>NaN</td>\n",
       "      <td>NaN</td>\n",
       "      <td>2010</td>\n",
       "      <td>11/9/2010</td>\n",
       "    </tr>\n",
       "    <tr>\n",
       "      <th>3</th>\n",
       "      <td>201000000004</td>\n",
       "      <td>1</td>\n",
       "      <td>590</td>\n",
       "      <td>1</td>\n",
       "      <td>6</td>\n",
       "      <td>50.518</td>\n",
       "      <td>2.925</td>\n",
       "      <td>2010</td>\n",
       "      <td>22/9/2010</td>\n",
       "    </tr>\n",
       "    <tr>\n",
       "      <th>4</th>\n",
       "      <td>201000000005</td>\n",
       "      <td>1</td>\n",
       "      <td>590</td>\n",
       "      <td>1</td>\n",
       "      <td>2</td>\n",
       "      <td>50.508</td>\n",
       "      <td>2.897</td>\n",
       "      <td>2010</td>\n",
       "      <td>25/10/2010</td>\n",
       "    </tr>\n",
       "  </tbody>\n",
       "</table>\n",
       "</div>"
      ],
      "text/plain": [
       "        Num_Acc  lum  dep  atm  col     lat   long  annee        date\n",
       "0  201000000001    1  590    1    6     NaN    NaN   2010   12/6/2010\n",
       "1  201000000002    1  590    1    6  50.516  2.920   2010    7/8/2010\n",
       "2  201000000003    1  590    1    5     NaN    NaN   2010   11/9/2010\n",
       "3  201000000004    1  590    1    6  50.518  2.925   2010   22/9/2010\n",
       "4  201000000005    1  590    1    2  50.508  2.897   2010  25/10/2010"
      ]
     },
     "execution_count": 146,
     "metadata": {},
     "output_type": "execute_result"
    }
   ],
   "source": [
    "df_caracteristiques.head()"
   ]
  },
  {
   "cell_type": "markdown",
   "metadata": {
    "ExecuteTime": {
     "end_time": "2019-03-09T18:49:26.653260Z",
     "start_time": "2019-03-09T18:49:26.637638Z"
    }
   },
   "source": [
    "## lieux"
   ]
  },
  {
   "cell_type": "code",
   "execution_count": 147,
   "metadata": {
    "ExecuteTime": {
     "end_time": "2019-04-05T07:47:02.308672Z",
     "start_time": "2019-04-05T07:47:02.139126Z"
    }
   },
   "outputs": [],
   "source": [
    "df_lieux = df_lieux.loc[:,['Num_Acc','plan']]"
   ]
  },
  {
   "cell_type": "code",
   "execution_count": 148,
   "metadata": {
    "ExecuteTime": {
     "end_time": "2019-04-05T07:47:02.352554Z",
     "start_time": "2019-04-05T07:47:02.313767Z"
    }
   },
   "outputs": [],
   "source": [
    "df_lieux[['plan']] = df_lieux[['plan']].astype('Int64')"
   ]
  },
  {
   "cell_type": "code",
   "execution_count": 149,
   "metadata": {
    "ExecuteTime": {
     "end_time": "2019-04-05T07:47:02.371546Z",
     "start_time": "2019-04-05T07:47:02.356544Z"
    }
   },
   "outputs": [
    {
     "data": {
      "text/html": [
       "<div>\n",
       "<style scoped>\n",
       "    .dataframe tbody tr th:only-of-type {\n",
       "        vertical-align: middle;\n",
       "    }\n",
       "\n",
       "    .dataframe tbody tr th {\n",
       "        vertical-align: top;\n",
       "    }\n",
       "\n",
       "    .dataframe thead th {\n",
       "        text-align: right;\n",
       "    }\n",
       "</style>\n",
       "<table border=\"1\" class=\"dataframe\">\n",
       "  <thead>\n",
       "    <tr style=\"text-align: right;\">\n",
       "      <th></th>\n",
       "      <th>Num_Acc</th>\n",
       "      <th>plan</th>\n",
       "    </tr>\n",
       "  </thead>\n",
       "  <tbody>\n",
       "    <tr>\n",
       "      <th>0</th>\n",
       "      <td>201000000001</td>\n",
       "      <td>1</td>\n",
       "    </tr>\n",
       "    <tr>\n",
       "      <th>1</th>\n",
       "      <td>201000000002</td>\n",
       "      <td>1</td>\n",
       "    </tr>\n",
       "    <tr>\n",
       "      <th>2</th>\n",
       "      <td>201000000003</td>\n",
       "      <td>1</td>\n",
       "    </tr>\n",
       "    <tr>\n",
       "      <th>3</th>\n",
       "      <td>201000000004</td>\n",
       "      <td>1</td>\n",
       "    </tr>\n",
       "    <tr>\n",
       "      <th>4</th>\n",
       "      <td>201000000005</td>\n",
       "      <td>1</td>\n",
       "    </tr>\n",
       "  </tbody>\n",
       "</table>\n",
       "</div>"
      ],
      "text/plain": [
       "        Num_Acc  plan\n",
       "0  201000000001     1\n",
       "1  201000000002     1\n",
       "2  201000000003     1\n",
       "3  201000000004     1\n",
       "4  201000000005     1"
      ]
     },
     "execution_count": 149,
     "metadata": {},
     "output_type": "execute_result"
    }
   ],
   "source": [
    "df_lieux.head()"
   ]
  },
  {
   "cell_type": "markdown",
   "metadata": {
    "ExecuteTime": {
     "end_time": "2019-03-09T20:48:52.774575Z",
     "start_time": "2019-03-09T20:48:52.759402Z"
    }
   },
   "source": [
    "## vehicules"
   ]
  },
  {
   "cell_type": "code",
   "execution_count": 150,
   "metadata": {
    "ExecuteTime": {
     "end_time": "2019-04-05T07:47:02.482208Z",
     "start_time": "2019-04-05T07:47:02.375495Z"
    }
   },
   "outputs": [],
   "source": [
    "df_vehicules = df_vehicules.loc[:,['Num_Acc','catv']]"
   ]
  },
  {
   "cell_type": "code",
   "execution_count": 151,
   "metadata": {
    "ExecuteTime": {
     "end_time": "2019-04-05T07:47:02.502154Z",
     "start_time": "2019-04-05T07:47:02.486197Z"
    }
   },
   "outputs": [
    {
     "data": {
      "text/html": [
       "<div>\n",
       "<style scoped>\n",
       "    .dataframe tbody tr th:only-of-type {\n",
       "        vertical-align: middle;\n",
       "    }\n",
       "\n",
       "    .dataframe tbody tr th {\n",
       "        vertical-align: top;\n",
       "    }\n",
       "\n",
       "    .dataframe thead th {\n",
       "        text-align: right;\n",
       "    }\n",
       "</style>\n",
       "<table border=\"1\" class=\"dataframe\">\n",
       "  <thead>\n",
       "    <tr style=\"text-align: right;\">\n",
       "      <th></th>\n",
       "      <th>Num_Acc</th>\n",
       "      <th>catv</th>\n",
       "    </tr>\n",
       "  </thead>\n",
       "  <tbody>\n",
       "    <tr>\n",
       "      <th>0</th>\n",
       "      <td>201000000001</td>\n",
       "      <td>30</td>\n",
       "    </tr>\n",
       "    <tr>\n",
       "      <th>1</th>\n",
       "      <td>201000000002</td>\n",
       "      <td>7</td>\n",
       "    </tr>\n",
       "    <tr>\n",
       "      <th>2</th>\n",
       "      <td>201000000003</td>\n",
       "      <td>33</td>\n",
       "    </tr>\n",
       "    <tr>\n",
       "      <th>3</th>\n",
       "      <td>201000000003</td>\n",
       "      <td>7</td>\n",
       "    </tr>\n",
       "    <tr>\n",
       "      <th>4</th>\n",
       "      <td>201000000003</td>\n",
       "      <td>7</td>\n",
       "    </tr>\n",
       "  </tbody>\n",
       "</table>\n",
       "</div>"
      ],
      "text/plain": [
       "        Num_Acc  catv\n",
       "0  201000000001    30\n",
       "1  201000000002     7\n",
       "2  201000000003    33\n",
       "3  201000000003     7\n",
       "4  201000000003     7"
      ]
     },
     "execution_count": 151,
     "metadata": {},
     "output_type": "execute_result"
    }
   ],
   "source": [
    "df_vehicules.head()"
   ]
  },
  {
   "cell_type": "markdown",
   "metadata": {},
   "source": [
    "## usagers"
   ]
  },
  {
   "cell_type": "code",
   "execution_count": 152,
   "metadata": {
    "ExecuteTime": {
     "end_time": "2019-04-05T07:47:02.718577Z",
     "start_time": "2019-04-05T07:47:02.505580Z"
    }
   },
   "outputs": [],
   "source": [
    "df_usagers = df_usagers.loc[:,['Num_Acc','num_veh','grav']]"
   ]
  },
  {
   "cell_type": "code",
   "execution_count": 153,
   "metadata": {
    "ExecuteTime": {
     "end_time": "2019-04-05T07:47:02.740517Z",
     "start_time": "2019-04-05T07:47:02.721569Z"
    }
   },
   "outputs": [
    {
     "data": {
      "text/html": [
       "<div>\n",
       "<style scoped>\n",
       "    .dataframe tbody tr th:only-of-type {\n",
       "        vertical-align: middle;\n",
       "    }\n",
       "\n",
       "    .dataframe tbody tr th {\n",
       "        vertical-align: top;\n",
       "    }\n",
       "\n",
       "    .dataframe thead th {\n",
       "        text-align: right;\n",
       "    }\n",
       "</style>\n",
       "<table border=\"1\" class=\"dataframe\">\n",
       "  <thead>\n",
       "    <tr style=\"text-align: right;\">\n",
       "      <th></th>\n",
       "      <th>Num_Acc</th>\n",
       "      <th>num_veh</th>\n",
       "      <th>grav</th>\n",
       "    </tr>\n",
       "  </thead>\n",
       "  <tbody>\n",
       "    <tr>\n",
       "      <th>0</th>\n",
       "      <td>201000000001</td>\n",
       "      <td>A01</td>\n",
       "      <td>3</td>\n",
       "    </tr>\n",
       "    <tr>\n",
       "      <th>1</th>\n",
       "      <td>201000000002</td>\n",
       "      <td>A01</td>\n",
       "      <td>1</td>\n",
       "    </tr>\n",
       "    <tr>\n",
       "      <th>2</th>\n",
       "      <td>201000000002</td>\n",
       "      <td>A01</td>\n",
       "      <td>3</td>\n",
       "    </tr>\n",
       "    <tr>\n",
       "      <th>3</th>\n",
       "      <td>201000000003</td>\n",
       "      <td>A01</td>\n",
       "      <td>3</td>\n",
       "    </tr>\n",
       "    <tr>\n",
       "      <th>4</th>\n",
       "      <td>201000000003</td>\n",
       "      <td>C03</td>\n",
       "      <td>1</td>\n",
       "    </tr>\n",
       "  </tbody>\n",
       "</table>\n",
       "</div>"
      ],
      "text/plain": [
       "        Num_Acc num_veh  grav\n",
       "0  201000000001     A01     3\n",
       "1  201000000002     A01     1\n",
       "2  201000000002     A01     3\n",
       "3  201000000003     A01     3\n",
       "4  201000000003     C03     1"
      ]
     },
     "execution_count": 153,
     "metadata": {},
     "output_type": "execute_result"
    }
   ],
   "source": [
    "df_usagers.head()"
   ]
  },
  {
   "cell_type": "markdown",
   "metadata": {
    "ExecuteTime": {
     "end_time": "2019-04-04T12:23:04.658950Z",
     "start_time": "2019-04-04T12:23:04.655483Z"
    }
   },
   "source": [
    "## Creation datatable view by vehicule and accident"
   ]
  },
  {
   "cell_type": "code",
   "execution_count": 154,
   "metadata": {
    "ExecuteTime": {
     "end_time": "2019-04-05T07:47:03.370474Z",
     "start_time": "2019-04-05T07:47:02.744581Z"
    }
   },
   "outputs": [],
   "source": [
    "data = pd.merge(df_usagers, df_vehicules, how='left',on=['Num_Acc'])"
   ]
  },
  {
   "cell_type": "code",
   "execution_count": 155,
   "metadata": {
    "ExecuteTime": {
     "end_time": "2019-04-05T07:47:04.246490Z",
     "start_time": "2019-04-05T07:47:03.374199Z"
    }
   },
   "outputs": [],
   "source": [
    "data['indemne'], data['tue'],data['blesse_hospitalise'], data['blesse_leger']=[0, 0, 0, 0]\n",
    "data.loc[data['grav']==1,'indemne'] = 1\n",
    "data.loc[data['grav']==2,'tue'] = 1\n",
    "data.loc[data['grav']==3,'blesse_hospitalise'] = 1\n",
    "data.loc[data['grav']==4,'blesse_leger'] = 1"
   ]
  },
  {
   "cell_type": "markdown",
   "metadata": {},
   "source": [
    "There are mistakes in the data. We can see that some accidents for the same vehicule, do not have the same category of vehicule (catv)."
   ]
  },
  {
   "cell_type": "code",
   "execution_count": 156,
   "metadata": {
    "ExecuteTime": {
     "end_time": "2019-04-05T07:47:05.785373Z",
     "start_time": "2019-04-05T07:47:04.253211Z"
    }
   },
   "outputs": [],
   "source": [
    "data = data.groupby(['Num_Acc','num_veh']).agg({'indemne':'sum',\n",
    "                                              'tue':'sum',\n",
    "                                              'blesse_hospitalise':'sum',\n",
    "                                              'blesse_leger':'sum',\n",
    "                                              'catv':'first',})"
   ]
  },
  {
   "cell_type": "code",
   "execution_count": 157,
   "metadata": {
    "ExecuteTime": {
     "end_time": "2019-04-05T07:47:05.862170Z",
     "start_time": "2019-04-05T07:47:05.789970Z"
    }
   },
   "outputs": [],
   "source": [
    "data.reset_index(inplace=True)"
   ]
  },
  {
   "cell_type": "code",
   "execution_count": 158,
   "metadata": {
    "ExecuteTime": {
     "end_time": "2019-04-05T07:47:06.177327Z",
     "start_time": "2019-04-05T07:47:05.865160Z"
    }
   },
   "outputs": [],
   "source": [
    "data['max_grav'] = 1\n",
    "# Maximum gravity in the accident 2 > 3 > 4 > 1\n",
    "data.loc[data['tue'] > 0, 'max_grav'] = 2\n",
    "data.loc[((data['tue'] <= 0) & (data['blesse_hospitalise'] > 0)), 'max_grav'] = 3\n",
    "data.loc[((data['tue'] <= 0) & (data['blesse_hospitalise'] <= 0) & (data['blesse_leger'] > 0)), 'max_grav'] = 4"
   ]
  },
  {
   "cell_type": "code",
   "execution_count": 159,
   "metadata": {
    "ExecuteTime": {
     "end_time": "2019-04-05T07:47:06.215267Z",
     "start_time": "2019-04-05T07:47:06.182313Z"
    }
   },
   "outputs": [
    {
     "data": {
      "text/html": [
       "<div>\n",
       "<style scoped>\n",
       "    .dataframe tbody tr th:only-of-type {\n",
       "        vertical-align: middle;\n",
       "    }\n",
       "\n",
       "    .dataframe tbody tr th {\n",
       "        vertical-align: top;\n",
       "    }\n",
       "\n",
       "    .dataframe thead th {\n",
       "        text-align: right;\n",
       "    }\n",
       "</style>\n",
       "<table border=\"1\" class=\"dataframe\">\n",
       "  <thead>\n",
       "    <tr style=\"text-align: right;\">\n",
       "      <th></th>\n",
       "      <th>Num_Acc</th>\n",
       "      <th>num_veh</th>\n",
       "      <th>indemne</th>\n",
       "      <th>tue</th>\n",
       "      <th>blesse_hospitalise</th>\n",
       "      <th>blesse_leger</th>\n",
       "      <th>catv</th>\n",
       "      <th>max_grav</th>\n",
       "    </tr>\n",
       "  </thead>\n",
       "  <tbody>\n",
       "    <tr>\n",
       "      <th>0</th>\n",
       "      <td>201000000001</td>\n",
       "      <td>A01</td>\n",
       "      <td>0</td>\n",
       "      <td>0</td>\n",
       "      <td>1</td>\n",
       "      <td>0</td>\n",
       "      <td>30</td>\n",
       "      <td>3</td>\n",
       "    </tr>\n",
       "    <tr>\n",
       "      <th>1</th>\n",
       "      <td>201000000002</td>\n",
       "      <td>A01</td>\n",
       "      <td>1</td>\n",
       "      <td>0</td>\n",
       "      <td>1</td>\n",
       "      <td>0</td>\n",
       "      <td>7</td>\n",
       "      <td>3</td>\n",
       "    </tr>\n",
       "    <tr>\n",
       "      <th>2</th>\n",
       "      <td>201000000003</td>\n",
       "      <td>A01</td>\n",
       "      <td>0</td>\n",
       "      <td>0</td>\n",
       "      <td>3</td>\n",
       "      <td>0</td>\n",
       "      <td>33</td>\n",
       "      <td>3</td>\n",
       "    </tr>\n",
       "    <tr>\n",
       "      <th>3</th>\n",
       "      <td>201000000003</td>\n",
       "      <td>B02</td>\n",
       "      <td>3</td>\n",
       "      <td>0</td>\n",
       "      <td>0</td>\n",
       "      <td>0</td>\n",
       "      <td>33</td>\n",
       "      <td>1</td>\n",
       "    </tr>\n",
       "    <tr>\n",
       "      <th>4</th>\n",
       "      <td>201000000003</td>\n",
       "      <td>C03</td>\n",
       "      <td>3</td>\n",
       "      <td>0</td>\n",
       "      <td>0</td>\n",
       "      <td>0</td>\n",
       "      <td>33</td>\n",
       "      <td>1</td>\n",
       "    </tr>\n",
       "    <tr>\n",
       "      <th>5</th>\n",
       "      <td>201000000004</td>\n",
       "      <td>A01</td>\n",
       "      <td>0</td>\n",
       "      <td>0</td>\n",
       "      <td>2</td>\n",
       "      <td>0</td>\n",
       "      <td>1</td>\n",
       "      <td>3</td>\n",
       "    </tr>\n",
       "    <tr>\n",
       "      <th>6</th>\n",
       "      <td>201000000004</td>\n",
       "      <td>B02</td>\n",
       "      <td>2</td>\n",
       "      <td>0</td>\n",
       "      <td>0</td>\n",
       "      <td>0</td>\n",
       "      <td>1</td>\n",
       "      <td>1</td>\n",
       "    </tr>\n",
       "    <tr>\n",
       "      <th>7</th>\n",
       "      <td>201000000005</td>\n",
       "      <td>A01</td>\n",
       "      <td>0</td>\n",
       "      <td>0</td>\n",
       "      <td>2</td>\n",
       "      <td>0</td>\n",
       "      <td>2</td>\n",
       "      <td>3</td>\n",
       "    </tr>\n",
       "    <tr>\n",
       "      <th>8</th>\n",
       "      <td>201000000005</td>\n",
       "      <td>B02</td>\n",
       "      <td>2</td>\n",
       "      <td>0</td>\n",
       "      <td>0</td>\n",
       "      <td>0</td>\n",
       "      <td>2</td>\n",
       "      <td>1</td>\n",
       "    </tr>\n",
       "    <tr>\n",
       "      <th>9</th>\n",
       "      <td>201000000006</td>\n",
       "      <td>A01</td>\n",
       "      <td>5</td>\n",
       "      <td>0</td>\n",
       "      <td>0</td>\n",
       "      <td>0</td>\n",
       "      <td>7</td>\n",
       "      <td>1</td>\n",
       "    </tr>\n",
       "  </tbody>\n",
       "</table>\n",
       "</div>"
      ],
      "text/plain": [
       "        Num_Acc num_veh  indemne  tue  blesse_hospitalise  blesse_leger  catv  \\\n",
       "0  201000000001     A01        0    0                   1             0    30   \n",
       "1  201000000002     A01        1    0                   1             0     7   \n",
       "2  201000000003     A01        0    0                   3             0    33   \n",
       "3  201000000003     B02        3    0                   0             0    33   \n",
       "4  201000000003     C03        3    0                   0             0    33   \n",
       "5  201000000004     A01        0    0                   2             0     1   \n",
       "6  201000000004     B02        2    0                   0             0     1   \n",
       "7  201000000005     A01        0    0                   2             0     2   \n",
       "8  201000000005     B02        2    0                   0             0     2   \n",
       "9  201000000006     A01        5    0                   0             0     7   \n",
       "\n",
       "   max_grav  \n",
       "0         3  \n",
       "1         3  \n",
       "2         3  \n",
       "3         1  \n",
       "4         1  \n",
       "5         3  \n",
       "6         1  \n",
       "7         3  \n",
       "8         1  \n",
       "9         1  "
      ]
     },
     "execution_count": 159,
     "metadata": {},
     "output_type": "execute_result"
    }
   ],
   "source": [
    "data.head(10)"
   ]
  },
  {
   "cell_type": "code",
   "execution_count": 160,
   "metadata": {
    "ExecuteTime": {
     "end_time": "2019-04-05T07:47:06.248139Z",
     "start_time": "2019-04-05T07:47:06.220213Z"
    }
   },
   "outputs": [
    {
     "data": {
      "text/html": [
       "<div>\n",
       "<style scoped>\n",
       "    .dataframe tbody tr th:only-of-type {\n",
       "        vertical-align: middle;\n",
       "    }\n",
       "\n",
       "    .dataframe tbody tr th {\n",
       "        vertical-align: top;\n",
       "    }\n",
       "\n",
       "    .dataframe thead th {\n",
       "        text-align: right;\n",
       "    }\n",
       "</style>\n",
       "<table border=\"1\" class=\"dataframe\">\n",
       "  <thead>\n",
       "    <tr style=\"text-align: right;\">\n",
       "      <th></th>\n",
       "      <th>Num_Acc</th>\n",
       "      <th>num_veh</th>\n",
       "      <th>indemne</th>\n",
       "      <th>tue</th>\n",
       "      <th>blesse_hospitalise</th>\n",
       "      <th>blesse_leger</th>\n",
       "      <th>catv</th>\n",
       "      <th>max_grav</th>\n",
       "    </tr>\n",
       "  </thead>\n",
       "  <tbody>\n",
       "    <tr>\n",
       "      <th>0</th>\n",
       "      <td>201000000001</td>\n",
       "      <td>A01</td>\n",
       "      <td>0</td>\n",
       "      <td>0</td>\n",
       "      <td>1</td>\n",
       "      <td>0</td>\n",
       "      <td>30</td>\n",
       "      <td>3</td>\n",
       "    </tr>\n",
       "    <tr>\n",
       "      <th>1</th>\n",
       "      <td>201000000002</td>\n",
       "      <td>A01</td>\n",
       "      <td>1</td>\n",
       "      <td>0</td>\n",
       "      <td>1</td>\n",
       "      <td>0</td>\n",
       "      <td>7</td>\n",
       "      <td>3</td>\n",
       "    </tr>\n",
       "    <tr>\n",
       "      <th>2</th>\n",
       "      <td>201000000003</td>\n",
       "      <td>A01</td>\n",
       "      <td>0</td>\n",
       "      <td>0</td>\n",
       "      <td>3</td>\n",
       "      <td>0</td>\n",
       "      <td>33</td>\n",
       "      <td>3</td>\n",
       "    </tr>\n",
       "    <tr>\n",
       "      <th>3</th>\n",
       "      <td>201000000003</td>\n",
       "      <td>B02</td>\n",
       "      <td>3</td>\n",
       "      <td>0</td>\n",
       "      <td>0</td>\n",
       "      <td>0</td>\n",
       "      <td>33</td>\n",
       "      <td>1</td>\n",
       "    </tr>\n",
       "    <tr>\n",
       "      <th>4</th>\n",
       "      <td>201000000003</td>\n",
       "      <td>C03</td>\n",
       "      <td>3</td>\n",
       "      <td>0</td>\n",
       "      <td>0</td>\n",
       "      <td>0</td>\n",
       "      <td>33</td>\n",
       "      <td>1</td>\n",
       "    </tr>\n",
       "  </tbody>\n",
       "</table>\n",
       "</div>"
      ],
      "text/plain": [
       "        Num_Acc num_veh  indemne  tue  blesse_hospitalise  blesse_leger  catv  \\\n",
       "0  201000000001     A01        0    0                   1             0    30   \n",
       "1  201000000002     A01        1    0                   1             0     7   \n",
       "2  201000000003     A01        0    0                   3             0    33   \n",
       "3  201000000003     B02        3    0                   0             0    33   \n",
       "4  201000000003     C03        3    0                   0             0    33   \n",
       "\n",
       "   max_grav  \n",
       "0         3  \n",
       "1         3  \n",
       "2         3  \n",
       "3         1  \n",
       "4         1  "
      ]
     },
     "execution_count": 160,
     "metadata": {},
     "output_type": "execute_result"
    }
   ],
   "source": [
    "data.head(5)"
   ]
  },
  {
   "cell_type": "markdown",
   "metadata": {
    "ExecuteTime": {
     "end_time": "2019-03-09T18:28:05.629741Z",
     "start_time": "2019-03-09T18:28:05.614158Z"
    }
   },
   "source": [
    "## Join the dataframes"
   ]
  },
  {
   "cell_type": "code",
   "execution_count": 161,
   "metadata": {
    "ExecuteTime": {
     "end_time": "2019-04-05T07:47:07.046003Z",
     "start_time": "2019-04-05T07:47:06.254121Z"
    }
   },
   "outputs": [],
   "source": [
    "data = pd.merge(data, df_caracteristiques, how='left',on=['Num_Acc'])"
   ]
  },
  {
   "cell_type": "code",
   "execution_count": 162,
   "metadata": {
    "ExecuteTime": {
     "end_time": "2019-04-05T07:47:07.598594Z",
     "start_time": "2019-04-05T07:47:07.050990Z"
    }
   },
   "outputs": [],
   "source": [
    "data = pd.merge(data, df_lieux, how='left',on=['Num_Acc'])\n"
   ]
  },
  {
   "cell_type": "code",
   "execution_count": 163,
   "metadata": {
    "ExecuteTime": {
     "end_time": "2019-04-05T07:47:08.088284Z",
     "start_time": "2019-04-05T07:47:07.601570Z"
    }
   },
   "outputs": [],
   "source": [
    "data = pd.merge(data, df_habitant, how='left', left_on=['dep'], right_on=['code_insee'])"
   ]
  },
  {
   "cell_type": "code",
   "execution_count": 164,
   "metadata": {
    "ExecuteTime": {
     "end_time": "2019-04-05T07:47:08.132101Z",
     "start_time": "2019-04-05T07:47:08.091207Z"
    }
   },
   "outputs": [
    {
     "data": {
      "text/html": [
       "<div>\n",
       "<style scoped>\n",
       "    .dataframe tbody tr th:only-of-type {\n",
       "        vertical-align: middle;\n",
       "    }\n",
       "\n",
       "    .dataframe tbody tr th {\n",
       "        vertical-align: top;\n",
       "    }\n",
       "\n",
       "    .dataframe thead th {\n",
       "        text-align: right;\n",
       "    }\n",
       "</style>\n",
       "<table border=\"1\" class=\"dataframe\">\n",
       "  <thead>\n",
       "    <tr style=\"text-align: right;\">\n",
       "      <th></th>\n",
       "      <th>Num_Acc</th>\n",
       "      <th>num_veh</th>\n",
       "      <th>indemne</th>\n",
       "      <th>tue</th>\n",
       "      <th>blesse_hospitalise</th>\n",
       "      <th>blesse_leger</th>\n",
       "      <th>catv</th>\n",
       "      <th>max_grav</th>\n",
       "      <th>lum</th>\n",
       "      <th>dep</th>\n",
       "      <th>...</th>\n",
       "      <th>col</th>\n",
       "      <th>lat</th>\n",
       "      <th>long</th>\n",
       "      <th>annee</th>\n",
       "      <th>date</th>\n",
       "      <th>plan</th>\n",
       "      <th>code_insee</th>\n",
       "      <th>code</th>\n",
       "      <th>departement</th>\n",
       "      <th>population</th>\n",
       "    </tr>\n",
       "  </thead>\n",
       "  <tbody>\n",
       "    <tr>\n",
       "      <th>0</th>\n",
       "      <td>201000000001</td>\n",
       "      <td>A01</td>\n",
       "      <td>0</td>\n",
       "      <td>0</td>\n",
       "      <td>1</td>\n",
       "      <td>0</td>\n",
       "      <td>30</td>\n",
       "      <td>3</td>\n",
       "      <td>1</td>\n",
       "      <td>590</td>\n",
       "      <td>...</td>\n",
       "      <td>6</td>\n",
       "      <td>NaN</td>\n",
       "      <td>NaN</td>\n",
       "      <td>2010</td>\n",
       "      <td>12/6/2010</td>\n",
       "      <td>1</td>\n",
       "      <td>590</td>\n",
       "      <td>59</td>\n",
       "      <td>Nord</td>\n",
       "      <td>2601785</td>\n",
       "    </tr>\n",
       "    <tr>\n",
       "      <th>1</th>\n",
       "      <td>201000000002</td>\n",
       "      <td>A01</td>\n",
       "      <td>1</td>\n",
       "      <td>0</td>\n",
       "      <td>1</td>\n",
       "      <td>0</td>\n",
       "      <td>7</td>\n",
       "      <td>3</td>\n",
       "      <td>1</td>\n",
       "      <td>590</td>\n",
       "      <td>...</td>\n",
       "      <td>6</td>\n",
       "      <td>50.516</td>\n",
       "      <td>2.92</td>\n",
       "      <td>2010</td>\n",
       "      <td>7/8/2010</td>\n",
       "      <td>1</td>\n",
       "      <td>590</td>\n",
       "      <td>59</td>\n",
       "      <td>Nord</td>\n",
       "      <td>2601785</td>\n",
       "    </tr>\n",
       "    <tr>\n",
       "      <th>2</th>\n",
       "      <td>201000000003</td>\n",
       "      <td>A01</td>\n",
       "      <td>0</td>\n",
       "      <td>0</td>\n",
       "      <td>3</td>\n",
       "      <td>0</td>\n",
       "      <td>33</td>\n",
       "      <td>3</td>\n",
       "      <td>1</td>\n",
       "      <td>590</td>\n",
       "      <td>...</td>\n",
       "      <td>5</td>\n",
       "      <td>NaN</td>\n",
       "      <td>NaN</td>\n",
       "      <td>2010</td>\n",
       "      <td>11/9/2010</td>\n",
       "      <td>1</td>\n",
       "      <td>590</td>\n",
       "      <td>59</td>\n",
       "      <td>Nord</td>\n",
       "      <td>2601785</td>\n",
       "    </tr>\n",
       "    <tr>\n",
       "      <th>3</th>\n",
       "      <td>201000000003</td>\n",
       "      <td>B02</td>\n",
       "      <td>3</td>\n",
       "      <td>0</td>\n",
       "      <td>0</td>\n",
       "      <td>0</td>\n",
       "      <td>33</td>\n",
       "      <td>1</td>\n",
       "      <td>1</td>\n",
       "      <td>590</td>\n",
       "      <td>...</td>\n",
       "      <td>5</td>\n",
       "      <td>NaN</td>\n",
       "      <td>NaN</td>\n",
       "      <td>2010</td>\n",
       "      <td>11/9/2010</td>\n",
       "      <td>1</td>\n",
       "      <td>590</td>\n",
       "      <td>59</td>\n",
       "      <td>Nord</td>\n",
       "      <td>2601785</td>\n",
       "    </tr>\n",
       "    <tr>\n",
       "      <th>4</th>\n",
       "      <td>201000000003</td>\n",
       "      <td>C03</td>\n",
       "      <td>3</td>\n",
       "      <td>0</td>\n",
       "      <td>0</td>\n",
       "      <td>0</td>\n",
       "      <td>33</td>\n",
       "      <td>1</td>\n",
       "      <td>1</td>\n",
       "      <td>590</td>\n",
       "      <td>...</td>\n",
       "      <td>5</td>\n",
       "      <td>NaN</td>\n",
       "      <td>NaN</td>\n",
       "      <td>2010</td>\n",
       "      <td>11/9/2010</td>\n",
       "      <td>1</td>\n",
       "      <td>590</td>\n",
       "      <td>59</td>\n",
       "      <td>Nord</td>\n",
       "      <td>2601785</td>\n",
       "    </tr>\n",
       "  </tbody>\n",
       "</table>\n",
       "<p>5 rows × 21 columns</p>\n",
       "</div>"
      ],
      "text/plain": [
       "        Num_Acc num_veh  indemne  tue  blesse_hospitalise  blesse_leger  catv  \\\n",
       "0  201000000001     A01        0    0                   1             0    30   \n",
       "1  201000000002     A01        1    0                   1             0     7   \n",
       "2  201000000003     A01        0    0                   3             0    33   \n",
       "3  201000000003     B02        3    0                   0             0    33   \n",
       "4  201000000003     C03        3    0                   0             0    33   \n",
       "\n",
       "   max_grav  lum  dep  ...  col     lat  long  annee       date plan  \\\n",
       "0         3    1  590  ...    6     NaN   NaN   2010  12/6/2010    1   \n",
       "1         3    1  590  ...    6  50.516  2.92   2010   7/8/2010    1   \n",
       "2         3    1  590  ...    5     NaN   NaN   2010  11/9/2010    1   \n",
       "3         1    1  590  ...    5     NaN   NaN   2010  11/9/2010    1   \n",
       "4         1    1  590  ...    5     NaN   NaN   2010  11/9/2010    1   \n",
       "\n",
       "   code_insee  code departement population  \n",
       "0         590    59        Nord    2601785  \n",
       "1         590    59        Nord    2601785  \n",
       "2         590    59        Nord    2601785  \n",
       "3         590    59        Nord    2601785  \n",
       "4         590    59        Nord    2601785  \n",
       "\n",
       "[5 rows x 21 columns]"
      ]
     },
     "execution_count": 164,
     "metadata": {},
     "output_type": "execute_result"
    }
   ],
   "source": [
    "data.head()"
   ]
  },
  {
   "cell_type": "code",
   "execution_count": 165,
   "metadata": {
    "ExecuteTime": {
     "end_time": "2019-04-05T07:47:08.500114Z",
     "start_time": "2019-04-05T07:47:08.135090Z"
    }
   },
   "outputs": [],
   "source": [
    "data.drop(columns=[\"Num_Acc\",\"dep\",\"code_insee\",\"annee\"], inplace=True)"
   ]
  },
  {
   "cell_type": "code",
   "execution_count": 166,
   "metadata": {
    "ExecuteTime": {
     "end_time": "2019-04-05T07:47:08.532560Z",
     "start_time": "2019-04-05T07:47:08.506099Z"
    }
   },
   "outputs": [
    {
     "data": {
      "text/plain": [
       "(829926, 17)"
      ]
     },
     "execution_count": 166,
     "metadata": {},
     "output_type": "execute_result"
    }
   ],
   "source": [
    "data.shape"
   ]
  },
  {
   "cell_type": "code",
   "execution_count": 167,
   "metadata": {
    "ExecuteTime": {
     "end_time": "2019-04-05T07:47:11.380413Z",
     "start_time": "2019-04-05T07:47:08.548298Z"
    }
   },
   "outputs": [
    {
     "name": "stdout",
     "output_type": "stream",
     "text": [
      "num_veh: 0\n",
      "indemne: 0\n",
      "tue: 0\n",
      "blesse_hospitalise: 0\n",
      "blesse_leger: 0\n",
      "catv: 0\n",
      "max_grav: 0\n",
      "lum: 0\n",
      "atm: 97\n",
      "col: 28\n",
      "lat: 444573\n",
      "long: 444771\n",
      "date: 0\n",
      "plan: 3156\n",
      "code: 0\n",
      "departement: 0\n",
      "population: 0\n"
     ]
    }
   ],
   "source": [
    "for column in data.columns:\n",
    "    na = sum(data[column].isna())\n",
    "    print('{}: {}'.format(column,na))"
   ]
  },
  {
   "cell_type": "code",
   "execution_count": 168,
   "metadata": {
    "ExecuteTime": {
     "end_time": "2019-04-05T07:47:11.400358Z",
     "start_time": "2019-04-05T07:47:11.384403Z"
    }
   },
   "outputs": [],
   "source": [
    "# The 97 values missing for the condition 'atm' are filled with 'normal'=1\n",
    "data['atm'].fillna(1,inplace=True)"
   ]
  },
  {
   "cell_type": "markdown",
   "metadata": {
    "ExecuteTime": {
     "end_time": "2019-03-13T13:47:01.558719Z",
     "start_time": "2019-03-13T13:47:01.553734Z"
    }
   },
   "source": [
    "## Remove the latittude and longitude without sense"
   ]
  },
  {
   "cell_type": "code",
   "execution_count": 169,
   "metadata": {
    "ExecuteTime": {
     "end_time": "2019-04-05T07:47:11.855232Z",
     "start_time": "2019-04-05T07:47:11.402352Z"
    }
   },
   "outputs": [
    {
     "data": {
      "text/html": [
       "<div>\n",
       "<style scoped>\n",
       "    .dataframe tbody tr th:only-of-type {\n",
       "        vertical-align: middle;\n",
       "    }\n",
       "\n",
       "    .dataframe tbody tr th {\n",
       "        vertical-align: top;\n",
       "    }\n",
       "\n",
       "    .dataframe thead th {\n",
       "        text-align: right;\n",
       "    }\n",
       "</style>\n",
       "<table border=\"1\" class=\"dataframe\">\n",
       "  <thead>\n",
       "    <tr style=\"text-align: right;\">\n",
       "      <th></th>\n",
       "      <th>num_veh</th>\n",
       "      <th>indemne</th>\n",
       "      <th>tue</th>\n",
       "      <th>blesse_hospitalise</th>\n",
       "      <th>blesse_leger</th>\n",
       "      <th>catv</th>\n",
       "      <th>max_grav</th>\n",
       "      <th>lum</th>\n",
       "      <th>atm</th>\n",
       "      <th>col</th>\n",
       "      <th>lat</th>\n",
       "      <th>long</th>\n",
       "      <th>date</th>\n",
       "      <th>plan</th>\n",
       "      <th>code</th>\n",
       "      <th>departement</th>\n",
       "      <th>population</th>\n",
       "    </tr>\n",
       "  </thead>\n",
       "  <tbody>\n",
       "    <tr>\n",
       "      <th>1</th>\n",
       "      <td>A01</td>\n",
       "      <td>1</td>\n",
       "      <td>0</td>\n",
       "      <td>1</td>\n",
       "      <td>0</td>\n",
       "      <td>7</td>\n",
       "      <td>3</td>\n",
       "      <td>1</td>\n",
       "      <td>1</td>\n",
       "      <td>6</td>\n",
       "      <td>50.516</td>\n",
       "      <td>2.920</td>\n",
       "      <td>7/8/2010</td>\n",
       "      <td>1</td>\n",
       "      <td>59</td>\n",
       "      <td>Nord</td>\n",
       "      <td>2601785</td>\n",
       "    </tr>\n",
       "    <tr>\n",
       "      <th>5</th>\n",
       "      <td>A01</td>\n",
       "      <td>0</td>\n",
       "      <td>0</td>\n",
       "      <td>2</td>\n",
       "      <td>0</td>\n",
       "      <td>1</td>\n",
       "      <td>3</td>\n",
       "      <td>1</td>\n",
       "      <td>1</td>\n",
       "      <td>6</td>\n",
       "      <td>50.518</td>\n",
       "      <td>2.925</td>\n",
       "      <td>22/9/2010</td>\n",
       "      <td>1</td>\n",
       "      <td>59</td>\n",
       "      <td>Nord</td>\n",
       "      <td>2601785</td>\n",
       "    </tr>\n",
       "    <tr>\n",
       "      <th>6</th>\n",
       "      <td>B02</td>\n",
       "      <td>2</td>\n",
       "      <td>0</td>\n",
       "      <td>0</td>\n",
       "      <td>0</td>\n",
       "      <td>1</td>\n",
       "      <td>1</td>\n",
       "      <td>1</td>\n",
       "      <td>1</td>\n",
       "      <td>6</td>\n",
       "      <td>50.518</td>\n",
       "      <td>2.925</td>\n",
       "      <td>22/9/2010</td>\n",
       "      <td>1</td>\n",
       "      <td>59</td>\n",
       "      <td>Nord</td>\n",
       "      <td>2601785</td>\n",
       "    </tr>\n",
       "    <tr>\n",
       "      <th>7</th>\n",
       "      <td>A01</td>\n",
       "      <td>0</td>\n",
       "      <td>0</td>\n",
       "      <td>2</td>\n",
       "      <td>0</td>\n",
       "      <td>2</td>\n",
       "      <td>3</td>\n",
       "      <td>1</td>\n",
       "      <td>1</td>\n",
       "      <td>2</td>\n",
       "      <td>50.508</td>\n",
       "      <td>2.897</td>\n",
       "      <td>25/10/2010</td>\n",
       "      <td>1</td>\n",
       "      <td>59</td>\n",
       "      <td>Nord</td>\n",
       "      <td>2601785</td>\n",
       "    </tr>\n",
       "    <tr>\n",
       "      <th>8</th>\n",
       "      <td>B02</td>\n",
       "      <td>2</td>\n",
       "      <td>0</td>\n",
       "      <td>0</td>\n",
       "      <td>0</td>\n",
       "      <td>2</td>\n",
       "      <td>1</td>\n",
       "      <td>1</td>\n",
       "      <td>1</td>\n",
       "      <td>2</td>\n",
       "      <td>50.508</td>\n",
       "      <td>2.897</td>\n",
       "      <td>25/10/2010</td>\n",
       "      <td>1</td>\n",
       "      <td>59</td>\n",
       "      <td>Nord</td>\n",
       "      <td>2601785</td>\n",
       "    </tr>\n",
       "  </tbody>\n",
       "</table>\n",
       "</div>"
      ],
      "text/plain": [
       "  num_veh  indemne  tue  blesse_hospitalise  blesse_leger  catv  max_grav  \\\n",
       "1     A01        1    0                   1             0     7         3   \n",
       "5     A01        0    0                   2             0     1         3   \n",
       "6     B02        2    0                   0             0     1         1   \n",
       "7     A01        0    0                   2             0     2         3   \n",
       "8     B02        2    0                   0             0     2         1   \n",
       "\n",
       "   lum  atm  col     lat   long        date  plan code departement  population  \n",
       "1    1    1    6  50.516  2.920    7/8/2010     1   59        Nord     2601785  \n",
       "5    1    1    6  50.518  2.925   22/9/2010     1   59        Nord     2601785  \n",
       "6    1    1    6  50.518  2.925   22/9/2010     1   59        Nord     2601785  \n",
       "7    1    1    2  50.508  2.897  25/10/2010     1   59        Nord     2601785  \n",
       "8    1    1    2  50.508  2.897  25/10/2010     1   59        Nord     2601785  "
      ]
     },
     "execution_count": 169,
     "metadata": {},
     "output_type": "execute_result"
    }
   ],
   "source": [
    "data2 = data.copy()\n",
    "data2.dropna(axis=0,how='any',subset=['lat','long'],inplace=True)  # dropna\n",
    "data2.head()"
   ]
  },
  {
   "cell_type": "code",
   "execution_count": 170,
   "metadata": {
    "ExecuteTime": {
     "end_time": "2019-04-05T07:47:11.981810Z",
     "start_time": "2019-04-05T07:47:11.861287Z"
    }
   },
   "outputs": [],
   "source": [
    "data2 = data2.groupby('departement').agg({'lat':['mean', 'std'], \n",
    "                         'long':['mean','std']})\n",
    "data2.reset_index(inplace=True,drop=False)\n",
    "data2.columns = ['departement','lat_mean','lat_std','long_mean','long_std']"
   ]
  },
  {
   "cell_type": "code",
   "execution_count": 171,
   "metadata": {
    "ExecuteTime": {
     "end_time": "2019-04-05T07:47:12.771759Z",
     "start_time": "2019-04-05T07:47:11.985793Z"
    }
   },
   "outputs": [],
   "source": [
    "data = pd.merge(data, data2,how='left',on='departement')"
   ]
  },
  {
   "cell_type": "code",
   "execution_count": 172,
   "metadata": {
    "ExecuteTime": {
     "end_time": "2019-04-05T07:47:12.808594Z",
     "start_time": "2019-04-05T07:47:12.775723Z"
    }
   },
   "outputs": [],
   "source": [
    "data['sigma_interval_lat']= (data['lat']-data['lat_mean'])/data['lat_std']\n",
    "data['sigma_interval_long']= (data['long']-data['long_mean'])/data['long_std']"
   ]
  },
  {
   "cell_type": "code",
   "execution_count": 173,
   "metadata": {
    "ExecuteTime": {
     "end_time": "2019-04-05T07:47:13.245279Z",
     "start_time": "2019-04-05T07:47:12.811583Z"
    }
   },
   "outputs": [],
   "source": [
    "data.loc[data['sigma_interval_lat']>5,'lat']=np.nan\n",
    "data.loc[data['sigma_interval_long']>5,'long']=np.nan\n",
    "data.loc[data['sigma_interval_lat']<-5,'lat']=np.nan\n",
    "data.loc[data['sigma_interval_long']<-5,'long']=np.nan"
   ]
  },
  {
   "cell_type": "code",
   "execution_count": 174,
   "metadata": {
    "ExecuteTime": {
     "end_time": "2019-04-05T07:47:13.259243Z",
     "start_time": "2019-04-05T07:47:13.248272Z"
    }
   },
   "outputs": [],
   "source": [
    "#data[(data['departement']=='Sarthe') & (data['lat']<43)]"
   ]
  },
  {
   "cell_type": "code",
   "execution_count": 175,
   "metadata": {
    "ExecuteTime": {
     "end_time": "2019-04-05T07:47:13.436815Z",
     "start_time": "2019-04-05T07:47:13.266224Z"
    }
   },
   "outputs": [],
   "source": [
    "data = data.loc[:,:'population']"
   ]
  },
  {
   "cell_type": "code",
   "execution_count": 176,
   "metadata": {
    "ExecuteTime": {
     "end_time": "2019-04-05T07:47:13.454720Z",
     "start_time": "2019-04-05T07:47:13.440757Z"
    }
   },
   "outputs": [],
   "source": [
    "data.reset_index(inplace=True, drop=False)"
   ]
  },
  {
   "cell_type": "code",
   "execution_count": 177,
   "metadata": {
    "ExecuteTime": {
     "end_time": "2019-04-05T07:47:13.712174Z",
     "start_time": "2019-04-05T07:47:13.458725Z"
    }
   },
   "outputs": [],
   "source": [
    "data.rename(columns={'index':'id_vehicule'}, inplace=True)"
   ]
  },
  {
   "cell_type": "code",
   "execution_count": 178,
   "metadata": {
    "ExecuteTime": {
     "end_time": "2019-04-05T07:47:13.759035Z",
     "start_time": "2019-04-05T07:47:13.719066Z"
    },
    "scrolled": true
   },
   "outputs": [
    {
     "data": {
      "text/html": [
       "<div>\n",
       "<style scoped>\n",
       "    .dataframe tbody tr th:only-of-type {\n",
       "        vertical-align: middle;\n",
       "    }\n",
       "\n",
       "    .dataframe tbody tr th {\n",
       "        vertical-align: top;\n",
       "    }\n",
       "\n",
       "    .dataframe thead th {\n",
       "        text-align: right;\n",
       "    }\n",
       "</style>\n",
       "<table border=\"1\" class=\"dataframe\">\n",
       "  <thead>\n",
       "    <tr style=\"text-align: right;\">\n",
       "      <th></th>\n",
       "      <th>id_vehicule</th>\n",
       "      <th>num_veh</th>\n",
       "      <th>indemne</th>\n",
       "      <th>tue</th>\n",
       "      <th>blesse_hospitalise</th>\n",
       "      <th>blesse_leger</th>\n",
       "      <th>catv</th>\n",
       "      <th>max_grav</th>\n",
       "      <th>lum</th>\n",
       "      <th>atm</th>\n",
       "      <th>col</th>\n",
       "      <th>lat</th>\n",
       "      <th>long</th>\n",
       "      <th>date</th>\n",
       "      <th>plan</th>\n",
       "      <th>code</th>\n",
       "      <th>departement</th>\n",
       "      <th>population</th>\n",
       "    </tr>\n",
       "  </thead>\n",
       "  <tbody>\n",
       "    <tr>\n",
       "      <th>0</th>\n",
       "      <td>0</td>\n",
       "      <td>A01</td>\n",
       "      <td>0</td>\n",
       "      <td>0</td>\n",
       "      <td>1</td>\n",
       "      <td>0</td>\n",
       "      <td>30</td>\n",
       "      <td>3</td>\n",
       "      <td>1</td>\n",
       "      <td>1</td>\n",
       "      <td>6</td>\n",
       "      <td>NaN</td>\n",
       "      <td>NaN</td>\n",
       "      <td>12/6/2010</td>\n",
       "      <td>1</td>\n",
       "      <td>59</td>\n",
       "      <td>Nord</td>\n",
       "      <td>2601785</td>\n",
       "    </tr>\n",
       "    <tr>\n",
       "      <th>1</th>\n",
       "      <td>1</td>\n",
       "      <td>A01</td>\n",
       "      <td>1</td>\n",
       "      <td>0</td>\n",
       "      <td>1</td>\n",
       "      <td>0</td>\n",
       "      <td>7</td>\n",
       "      <td>3</td>\n",
       "      <td>1</td>\n",
       "      <td>1</td>\n",
       "      <td>6</td>\n",
       "      <td>50.516</td>\n",
       "      <td>2.92</td>\n",
       "      <td>7/8/2010</td>\n",
       "      <td>1</td>\n",
       "      <td>59</td>\n",
       "      <td>Nord</td>\n",
       "      <td>2601785</td>\n",
       "    </tr>\n",
       "    <tr>\n",
       "      <th>2</th>\n",
       "      <td>2</td>\n",
       "      <td>A01</td>\n",
       "      <td>0</td>\n",
       "      <td>0</td>\n",
       "      <td>3</td>\n",
       "      <td>0</td>\n",
       "      <td>33</td>\n",
       "      <td>3</td>\n",
       "      <td>1</td>\n",
       "      <td>1</td>\n",
       "      <td>5</td>\n",
       "      <td>NaN</td>\n",
       "      <td>NaN</td>\n",
       "      <td>11/9/2010</td>\n",
       "      <td>1</td>\n",
       "      <td>59</td>\n",
       "      <td>Nord</td>\n",
       "      <td>2601785</td>\n",
       "    </tr>\n",
       "    <tr>\n",
       "      <th>3</th>\n",
       "      <td>3</td>\n",
       "      <td>B02</td>\n",
       "      <td>3</td>\n",
       "      <td>0</td>\n",
       "      <td>0</td>\n",
       "      <td>0</td>\n",
       "      <td>33</td>\n",
       "      <td>1</td>\n",
       "      <td>1</td>\n",
       "      <td>1</td>\n",
       "      <td>5</td>\n",
       "      <td>NaN</td>\n",
       "      <td>NaN</td>\n",
       "      <td>11/9/2010</td>\n",
       "      <td>1</td>\n",
       "      <td>59</td>\n",
       "      <td>Nord</td>\n",
       "      <td>2601785</td>\n",
       "    </tr>\n",
       "    <tr>\n",
       "      <th>4</th>\n",
       "      <td>4</td>\n",
       "      <td>C03</td>\n",
       "      <td>3</td>\n",
       "      <td>0</td>\n",
       "      <td>0</td>\n",
       "      <td>0</td>\n",
       "      <td>33</td>\n",
       "      <td>1</td>\n",
       "      <td>1</td>\n",
       "      <td>1</td>\n",
       "      <td>5</td>\n",
       "      <td>NaN</td>\n",
       "      <td>NaN</td>\n",
       "      <td>11/9/2010</td>\n",
       "      <td>1</td>\n",
       "      <td>59</td>\n",
       "      <td>Nord</td>\n",
       "      <td>2601785</td>\n",
       "    </tr>\n",
       "  </tbody>\n",
       "</table>\n",
       "</div>"
      ],
      "text/plain": [
       "   id_vehicule num_veh  indemne  tue  blesse_hospitalise  blesse_leger  catv  \\\n",
       "0            0     A01        0    0                   1             0    30   \n",
       "1            1     A01        1    0                   1             0     7   \n",
       "2            2     A01        0    0                   3             0    33   \n",
       "3            3     B02        3    0                   0             0    33   \n",
       "4            4     C03        3    0                   0             0    33   \n",
       "\n",
       "   max_grav  lum  atm  col     lat  long       date  plan code departement  \\\n",
       "0         3    1    1    6     NaN   NaN  12/6/2010     1   59        Nord   \n",
       "1         3    1    1    6  50.516  2.92   7/8/2010     1   59        Nord   \n",
       "2         3    1    1    5     NaN   NaN  11/9/2010     1   59        Nord   \n",
       "3         1    1    1    5     NaN   NaN  11/9/2010     1   59        Nord   \n",
       "4         1    1    1    5     NaN   NaN  11/9/2010     1   59        Nord   \n",
       "\n",
       "   population  \n",
       "0     2601785  \n",
       "1     2601785  \n",
       "2     2601785  \n",
       "3     2601785  \n",
       "4     2601785  "
      ]
     },
     "execution_count": 178,
     "metadata": {},
     "output_type": "execute_result"
    }
   ],
   "source": [
    "data.head()"
   ]
  },
  {
   "cell_type": "markdown",
   "metadata": {
    "ExecuteTime": {
     "end_time": "2019-04-04T21:16:15.919735Z",
     "start_time": "2019-04-04T21:16:15.914606Z"
    }
   },
   "source": [
    "## Modify a little bit lat and long to plot them on the map separately"
   ]
  },
  {
   "cell_type": "code",
   "execution_count": 179,
   "metadata": {
    "ExecuteTime": {
     "end_time": "2019-04-05T07:47:13.779851Z",
     "start_time": "2019-04-05T07:47:13.764891Z"
    }
   },
   "outputs": [
    {
     "data": {
      "text/plain": [
       "-1.751927155982535e-05"
      ]
     },
     "execution_count": 179,
     "metadata": {},
     "output_type": "execute_result"
    }
   ],
   "source": [
    "np.random.normal(loc=0.0, scale=0.00001)"
   ]
  },
  {
   "cell_type": "code",
   "execution_count": 180,
   "metadata": {
    "ExecuteTime": {
     "end_time": "2019-04-05T07:47:13.902528Z",
     "start_time": "2019-04-05T07:47:13.786831Z"
    }
   },
   "outputs": [],
   "source": [
    "data_test = data.copy()"
   ]
  },
  {
   "cell_type": "code",
   "execution_count": 181,
   "metadata": {
    "ExecuteTime": {
     "end_time": "2019-04-05T07:47:13.954383Z",
     "start_time": "2019-04-05T07:47:13.905515Z"
    }
   },
   "outputs": [
    {
     "data": {
      "text/html": [
       "<div>\n",
       "<style scoped>\n",
       "    .dataframe tbody tr th:only-of-type {\n",
       "        vertical-align: middle;\n",
       "    }\n",
       "\n",
       "    .dataframe tbody tr th {\n",
       "        vertical-align: top;\n",
       "    }\n",
       "\n",
       "    .dataframe thead th {\n",
       "        text-align: right;\n",
       "    }\n",
       "</style>\n",
       "<table border=\"1\" class=\"dataframe\">\n",
       "  <thead>\n",
       "    <tr style=\"text-align: right;\">\n",
       "      <th></th>\n",
       "      <th>id_vehicule</th>\n",
       "      <th>num_veh</th>\n",
       "      <th>indemne</th>\n",
       "      <th>tue</th>\n",
       "      <th>blesse_hospitalise</th>\n",
       "      <th>blesse_leger</th>\n",
       "      <th>catv</th>\n",
       "      <th>max_grav</th>\n",
       "      <th>lum</th>\n",
       "      <th>atm</th>\n",
       "      <th>col</th>\n",
       "      <th>lat</th>\n",
       "      <th>long</th>\n",
       "      <th>date</th>\n",
       "      <th>plan</th>\n",
       "      <th>code</th>\n",
       "      <th>departement</th>\n",
       "      <th>population</th>\n",
       "    </tr>\n",
       "  </thead>\n",
       "  <tbody>\n",
       "    <tr>\n",
       "      <th>0</th>\n",
       "      <td>0</td>\n",
       "      <td>A01</td>\n",
       "      <td>0</td>\n",
       "      <td>0</td>\n",
       "      <td>1</td>\n",
       "      <td>0</td>\n",
       "      <td>30</td>\n",
       "      <td>3</td>\n",
       "      <td>1</td>\n",
       "      <td>1</td>\n",
       "      <td>6</td>\n",
       "      <td>NaN</td>\n",
       "      <td>NaN</td>\n",
       "      <td>12/6/2010</td>\n",
       "      <td>1</td>\n",
       "      <td>59</td>\n",
       "      <td>Nord</td>\n",
       "      <td>2601785</td>\n",
       "    </tr>\n",
       "    <tr>\n",
       "      <th>1</th>\n",
       "      <td>1</td>\n",
       "      <td>A01</td>\n",
       "      <td>1</td>\n",
       "      <td>0</td>\n",
       "      <td>1</td>\n",
       "      <td>0</td>\n",
       "      <td>7</td>\n",
       "      <td>3</td>\n",
       "      <td>1</td>\n",
       "      <td>1</td>\n",
       "      <td>6</td>\n",
       "      <td>50.516</td>\n",
       "      <td>2.92</td>\n",
       "      <td>7/8/2010</td>\n",
       "      <td>1</td>\n",
       "      <td>59</td>\n",
       "      <td>Nord</td>\n",
       "      <td>2601785</td>\n",
       "    </tr>\n",
       "    <tr>\n",
       "      <th>2</th>\n",
       "      <td>2</td>\n",
       "      <td>A01</td>\n",
       "      <td>0</td>\n",
       "      <td>0</td>\n",
       "      <td>3</td>\n",
       "      <td>0</td>\n",
       "      <td>33</td>\n",
       "      <td>3</td>\n",
       "      <td>1</td>\n",
       "      <td>1</td>\n",
       "      <td>5</td>\n",
       "      <td>NaN</td>\n",
       "      <td>NaN</td>\n",
       "      <td>11/9/2010</td>\n",
       "      <td>1</td>\n",
       "      <td>59</td>\n",
       "      <td>Nord</td>\n",
       "      <td>2601785</td>\n",
       "    </tr>\n",
       "    <tr>\n",
       "      <th>3</th>\n",
       "      <td>3</td>\n",
       "      <td>B02</td>\n",
       "      <td>3</td>\n",
       "      <td>0</td>\n",
       "      <td>0</td>\n",
       "      <td>0</td>\n",
       "      <td>33</td>\n",
       "      <td>1</td>\n",
       "      <td>1</td>\n",
       "      <td>1</td>\n",
       "      <td>5</td>\n",
       "      <td>NaN</td>\n",
       "      <td>NaN</td>\n",
       "      <td>11/9/2010</td>\n",
       "      <td>1</td>\n",
       "      <td>59</td>\n",
       "      <td>Nord</td>\n",
       "      <td>2601785</td>\n",
       "    </tr>\n",
       "    <tr>\n",
       "      <th>4</th>\n",
       "      <td>4</td>\n",
       "      <td>C03</td>\n",
       "      <td>3</td>\n",
       "      <td>0</td>\n",
       "      <td>0</td>\n",
       "      <td>0</td>\n",
       "      <td>33</td>\n",
       "      <td>1</td>\n",
       "      <td>1</td>\n",
       "      <td>1</td>\n",
       "      <td>5</td>\n",
       "      <td>NaN</td>\n",
       "      <td>NaN</td>\n",
       "      <td>11/9/2010</td>\n",
       "      <td>1</td>\n",
       "      <td>59</td>\n",
       "      <td>Nord</td>\n",
       "      <td>2601785</td>\n",
       "    </tr>\n",
       "  </tbody>\n",
       "</table>\n",
       "</div>"
      ],
      "text/plain": [
       "   id_vehicule num_veh  indemne  tue  blesse_hospitalise  blesse_leger  catv  \\\n",
       "0            0     A01        0    0                   1             0    30   \n",
       "1            1     A01        1    0                   1             0     7   \n",
       "2            2     A01        0    0                   3             0    33   \n",
       "3            3     B02        3    0                   0             0    33   \n",
       "4            4     C03        3    0                   0             0    33   \n",
       "\n",
       "   max_grav  lum  atm  col     lat  long       date  plan code departement  \\\n",
       "0         3    1    1    6     NaN   NaN  12/6/2010     1   59        Nord   \n",
       "1         3    1    1    6  50.516  2.92   7/8/2010     1   59        Nord   \n",
       "2         3    1    1    5     NaN   NaN  11/9/2010     1   59        Nord   \n",
       "3         1    1    1    5     NaN   NaN  11/9/2010     1   59        Nord   \n",
       "4         1    1    1    5     NaN   NaN  11/9/2010     1   59        Nord   \n",
       "\n",
       "   population  \n",
       "0     2601785  \n",
       "1     2601785  \n",
       "2     2601785  \n",
       "3     2601785  \n",
       "4     2601785  "
      ]
     },
     "execution_count": 181,
     "metadata": {},
     "output_type": "execute_result"
    }
   ],
   "source": [
    "data_test.head()"
   ]
  },
  {
   "cell_type": "code",
   "execution_count": 182,
   "metadata": {
    "ExecuteTime": {
     "end_time": "2019-04-05T07:47:13.988291Z",
     "start_time": "2019-04-05T07:47:13.958372Z"
    }
   },
   "outputs": [
    {
     "data": {
      "text/plain": [
       "array([1.66291871e-05, 3.60644288e-06])"
      ]
     },
     "execution_count": 182,
     "metadata": {},
     "output_type": "execute_result"
    }
   ],
   "source": [
    "np.random.normal(loc=0.0, scale=0.00001, size=2)"
   ]
  },
  {
   "cell_type": "code",
   "execution_count": 183,
   "metadata": {
    "ExecuteTime": {
     "end_time": "2019-04-05T07:47:14.031183Z",
     "start_time": "2019-04-05T07:47:13.993279Z"
    }
   },
   "outputs": [
    {
     "data": {
      "text/plain": [
       "384856"
      ]
     },
     "execution_count": 183,
     "metadata": {},
     "output_type": "execute_result"
    }
   ],
   "source": [
    "data_test.loc[data_test['lat'].notna(),'lat'].shape[0]"
   ]
  },
  {
   "cell_type": "markdown",
   "metadata": {
    "ExecuteTime": {
     "end_time": "2019-04-04T21:29:42.689994Z",
     "start_time": "2019-04-04T21:29:42.684771Z"
    }
   },
   "source": [
    "### lat"
   ]
  },
  {
   "cell_type": "code",
   "execution_count": 184,
   "metadata": {
    "ExecuteTime": {
     "end_time": "2019-04-05T07:47:14.141881Z",
     "start_time": "2019-04-05T07:47:14.038158Z"
    }
   },
   "outputs": [],
   "source": [
    "length_notna = data.loc[data['lat'].notna(),'lat'].shape[0]\n",
    "random_numbers = np.random.normal(loc=0.0, scale=0.00003, size=length_notna)\n",
    "data.loc[data['lat'].notna(),'lat'] = data.loc[data['lat'].notna(),'lat'] + random_numbers"
   ]
  },
  {
   "cell_type": "markdown",
   "metadata": {
    "ExecuteTime": {
     "end_time": "2019-04-04T21:32:05.491590Z",
     "start_time": "2019-04-04T21:32:05.486604Z"
    }
   },
   "source": [
    "### long"
   ]
  },
  {
   "cell_type": "code",
   "execution_count": 185,
   "metadata": {
    "ExecuteTime": {
     "end_time": "2019-04-05T07:47:14.262563Z",
     "start_time": "2019-04-05T07:47:14.146253Z"
    }
   },
   "outputs": [],
   "source": [
    "length_notna = data.loc[data['long'].notna(),'long'].shape[0]\n",
    "random_numbers = np.random.normal(loc=0.0, scale=0.00003, size=length_notna)\n",
    "data.loc[data['long'].notna(),'long'] = data.loc[data['long'].notna(),'long'] + random_numbers"
   ]
  },
  {
   "cell_type": "markdown",
   "metadata": {
    "ExecuteTime": {
     "end_time": "2019-03-09T21:06:44.803778Z",
     "start_time": "2019-03-09T21:06:44.788199Z"
    }
   },
   "source": [
    "# Export the data"
   ]
  },
  {
   "cell_type": "code",
   "execution_count": 186,
   "metadata": {
    "ExecuteTime": {
     "end_time": "2019-04-05T07:47:14.355311Z",
     "start_time": "2019-04-05T07:47:14.270539Z"
    }
   },
   "outputs": [
    {
     "data": {
      "text/html": [
       "<div>\n",
       "<style scoped>\n",
       "    .dataframe tbody tr th:only-of-type {\n",
       "        vertical-align: middle;\n",
       "    }\n",
       "\n",
       "    .dataframe tbody tr th {\n",
       "        vertical-align: top;\n",
       "    }\n",
       "\n",
       "    .dataframe thead th {\n",
       "        text-align: right;\n",
       "    }\n",
       "</style>\n",
       "<table border=\"1\" class=\"dataframe\">\n",
       "  <thead>\n",
       "    <tr style=\"text-align: right;\">\n",
       "      <th></th>\n",
       "      <th>id_vehicule</th>\n",
       "      <th>num_veh</th>\n",
       "      <th>indemne</th>\n",
       "      <th>tue</th>\n",
       "      <th>blesse_hospitalise</th>\n",
       "      <th>blesse_leger</th>\n",
       "      <th>catv</th>\n",
       "      <th>max_grav</th>\n",
       "      <th>lum</th>\n",
       "      <th>atm</th>\n",
       "      <th>col</th>\n",
       "      <th>lat</th>\n",
       "      <th>long</th>\n",
       "      <th>date</th>\n",
       "      <th>plan</th>\n",
       "      <th>code</th>\n",
       "      <th>departement</th>\n",
       "      <th>population</th>\n",
       "    </tr>\n",
       "  </thead>\n",
       "  <tbody>\n",
       "    <tr>\n",
       "      <th>0</th>\n",
       "      <td>0</td>\n",
       "      <td>A01</td>\n",
       "      <td>0</td>\n",
       "      <td>0</td>\n",
       "      <td>1</td>\n",
       "      <td>0</td>\n",
       "      <td>30</td>\n",
       "      <td>3</td>\n",
       "      <td>1</td>\n",
       "      <td>1</td>\n",
       "      <td>6</td>\n",
       "      <td>NaN</td>\n",
       "      <td>NaN</td>\n",
       "      <td>12/6/2010</td>\n",
       "      <td>1</td>\n",
       "      <td>59</td>\n",
       "      <td>Nord</td>\n",
       "      <td>2601785</td>\n",
       "    </tr>\n",
       "    <tr>\n",
       "      <th>1</th>\n",
       "      <td>1</td>\n",
       "      <td>A01</td>\n",
       "      <td>1</td>\n",
       "      <td>0</td>\n",
       "      <td>1</td>\n",
       "      <td>0</td>\n",
       "      <td>7</td>\n",
       "      <td>3</td>\n",
       "      <td>1</td>\n",
       "      <td>1</td>\n",
       "      <td>6</td>\n",
       "      <td>50.51601</td>\n",
       "      <td>2.920024</td>\n",
       "      <td>7/8/2010</td>\n",
       "      <td>1</td>\n",
       "      <td>59</td>\n",
       "      <td>Nord</td>\n",
       "      <td>2601785</td>\n",
       "    </tr>\n",
       "    <tr>\n",
       "      <th>2</th>\n",
       "      <td>2</td>\n",
       "      <td>A01</td>\n",
       "      <td>0</td>\n",
       "      <td>0</td>\n",
       "      <td>3</td>\n",
       "      <td>0</td>\n",
       "      <td>33</td>\n",
       "      <td>3</td>\n",
       "      <td>1</td>\n",
       "      <td>1</td>\n",
       "      <td>5</td>\n",
       "      <td>NaN</td>\n",
       "      <td>NaN</td>\n",
       "      <td>11/9/2010</td>\n",
       "      <td>1</td>\n",
       "      <td>59</td>\n",
       "      <td>Nord</td>\n",
       "      <td>2601785</td>\n",
       "    </tr>\n",
       "    <tr>\n",
       "      <th>3</th>\n",
       "      <td>3</td>\n",
       "      <td>B02</td>\n",
       "      <td>3</td>\n",
       "      <td>0</td>\n",
       "      <td>0</td>\n",
       "      <td>0</td>\n",
       "      <td>33</td>\n",
       "      <td>1</td>\n",
       "      <td>1</td>\n",
       "      <td>1</td>\n",
       "      <td>5</td>\n",
       "      <td>NaN</td>\n",
       "      <td>NaN</td>\n",
       "      <td>11/9/2010</td>\n",
       "      <td>1</td>\n",
       "      <td>59</td>\n",
       "      <td>Nord</td>\n",
       "      <td>2601785</td>\n",
       "    </tr>\n",
       "    <tr>\n",
       "      <th>4</th>\n",
       "      <td>4</td>\n",
       "      <td>C03</td>\n",
       "      <td>3</td>\n",
       "      <td>0</td>\n",
       "      <td>0</td>\n",
       "      <td>0</td>\n",
       "      <td>33</td>\n",
       "      <td>1</td>\n",
       "      <td>1</td>\n",
       "      <td>1</td>\n",
       "      <td>5</td>\n",
       "      <td>NaN</td>\n",
       "      <td>NaN</td>\n",
       "      <td>11/9/2010</td>\n",
       "      <td>1</td>\n",
       "      <td>59</td>\n",
       "      <td>Nord</td>\n",
       "      <td>2601785</td>\n",
       "    </tr>\n",
       "  </tbody>\n",
       "</table>\n",
       "</div>"
      ],
      "text/plain": [
       "   id_vehicule num_veh  indemne  tue  blesse_hospitalise  blesse_leger  catv  \\\n",
       "0            0     A01        0    0                   1             0    30   \n",
       "1            1     A01        1    0                   1             0     7   \n",
       "2            2     A01        0    0                   3             0    33   \n",
       "3            3     B02        3    0                   0             0    33   \n",
       "4            4     C03        3    0                   0             0    33   \n",
       "\n",
       "   max_grav  lum  atm  col       lat      long       date  plan code  \\\n",
       "0         3    1    1    6       NaN       NaN  12/6/2010     1   59   \n",
       "1         3    1    1    6  50.51601  2.920024   7/8/2010     1   59   \n",
       "2         3    1    1    5       NaN       NaN  11/9/2010     1   59   \n",
       "3         1    1    1    5       NaN       NaN  11/9/2010     1   59   \n",
       "4         1    1    1    5       NaN       NaN  11/9/2010     1   59   \n",
       "\n",
       "  departement  population  \n",
       "0        Nord     2601785  \n",
       "1        Nord     2601785  \n",
       "2        Nord     2601785  \n",
       "3        Nord     2601785  \n",
       "4        Nord     2601785  "
      ]
     },
     "execution_count": 186,
     "metadata": {},
     "output_type": "execute_result"
    }
   ],
   "source": [
    "data.head()"
   ]
  },
  {
   "cell_type": "code",
   "execution_count": 187,
   "metadata": {
    "ExecuteTime": {
     "end_time": "2019-04-05T07:47:14.374261Z",
     "start_time": "2019-04-05T07:47:14.359306Z"
    }
   },
   "outputs": [
    {
     "data": {
      "text/plain": [
       "(829926, 18)"
      ]
     },
     "execution_count": 187,
     "metadata": {},
     "output_type": "execute_result"
    }
   ],
   "source": [
    "data.shape"
   ]
  },
  {
   "cell_type": "code",
   "execution_count": 188,
   "metadata": {
    "ExecuteTime": {
     "end_time": "2019-04-05T07:47:45.140563Z",
     "start_time": "2019-04-05T07:47:14.382283Z"
    }
   },
   "outputs": [],
   "source": [
    "data.to_csv('data.csv',sep='\\t')"
   ]
  },
  {
   "cell_type": "code",
   "execution_count": 189,
   "metadata": {
    "ExecuteTime": {
     "end_time": "2019-04-05T07:47:45.156520Z",
     "start_time": "2019-04-05T07:47:45.148582Z"
    }
   },
   "outputs": [
    {
     "name": "stdout",
     "output_type": "stream",
     "text": [
      "Done\n"
     ]
    }
   ],
   "source": [
    "print(\"Done\")"
   ]
  }
 ],
 "metadata": {
  "kernelspec": {
   "display_name": "Python 3",
   "language": "python",
   "name": "python3"
  },
  "language_info": {
   "codemirror_mode": {
    "name": "ipython",
    "version": 3
   },
   "file_extension": ".py",
   "mimetype": "text/x-python",
   "name": "python",
   "nbconvert_exporter": "python",
   "pygments_lexer": "ipython3",
   "version": "3.6.6"
  },
  "toc": {
   "base_numbering": 1,
   "nav_menu": {},
   "number_sections": true,
   "sideBar": true,
   "skip_h1_title": false,
   "title_cell": "Table of Contents",
   "title_sidebar": "Contents",
   "toc_cell": false,
   "toc_position": {
    "height": "calc(100% - 180px)",
    "left": "10px",
    "top": "150px",
    "width": "377.867px"
   },
   "toc_section_display": true,
   "toc_window_display": true
  },
  "varInspector": {
   "cols": {
    "lenName": 16,
    "lenType": 16,
    "lenVar": 40
   },
   "kernels_config": {
    "python": {
     "delete_cmd_postfix": "",
     "delete_cmd_prefix": "del ",
     "library": "var_list.py",
     "varRefreshCmd": "print(var_dic_list())"
    },
    "r": {
     "delete_cmd_postfix": ") ",
     "delete_cmd_prefix": "rm(",
     "library": "var_list.r",
     "varRefreshCmd": "cat(var_dic_list()) "
    }
   },
   "types_to_exclude": [
    "module",
    "function",
    "builtin_function_or_method",
    "instance",
    "_Feature"
   ],
   "window_display": false
  }
 },
 "nbformat": 4,
 "nbformat_minor": 2
}
