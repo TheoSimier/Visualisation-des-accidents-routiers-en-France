{
 "cells": [
  {
   "cell_type": "markdown",
   "metadata": {},
   "source": [
    "# imports"
   ]
  },
  {
   "cell_type": "markdown",
   "metadata": {},
   "source": [
    "## Librairies"
   ]
  },
  {
   "cell_type": "code",
   "execution_count": 1,
   "metadata": {
    "ExecuteTime": {
     "end_time": "2019-04-01T10:57:13.126449Z",
     "start_time": "2019-04-01T10:57:11.891744Z"
    }
   },
   "outputs": [],
   "source": [
    "import numpy as np\n",
    "import pandas as pd\n",
    "import os"
   ]
  },
  {
   "cell_type": "code",
   "execution_count": 2,
   "metadata": {
    "ExecuteTime": {
     "end_time": "2019-04-01T10:57:13.157510Z",
     "start_time": "2019-04-01T10:57:13.126449Z"
    }
   },
   "outputs": [],
   "source": [
    "os.chdir('C:\\\\Users\\\\theos\\\\Documents\\\\ETUDES\\\\EDHEC_MSc\\\\data_visualization\\\\project_data_viz')"
   ]
  },
  {
   "cell_type": "markdown",
   "metadata": {
    "ExecuteTime": {
     "end_time": "2019-03-09T16:10:15.626725Z",
     "start_time": "2019-03-09T16:10:15.624720Z"
    }
   },
   "source": [
    "## Data"
   ]
  },
  {
   "cell_type": "markdown",
   "metadata": {},
   "source": [
    "### import lieux"
   ]
  },
  {
   "cell_type": "code",
   "execution_count": 3,
   "metadata": {
    "ExecuteTime": {
     "end_time": "2019-04-01T10:57:13.172693Z",
     "start_time": "2019-04-01T10:57:13.157510Z"
    }
   },
   "outputs": [],
   "source": [
    "os.chdir('lieux')"
   ]
  },
  {
   "cell_type": "code",
   "execution_count": 4,
   "metadata": {
    "ExecuteTime": {
     "end_time": "2019-04-01T10:57:13.985003Z",
     "start_time": "2019-04-01T10:57:13.172693Z"
    }
   },
   "outputs": [
    {
     "name": "stderr",
     "output_type": "stream",
     "text": [
      "C:\\anaconda\\lib\\site-packages\\IPython\\core\\interactiveshell.py:2785: DtypeWarning: Columns (2) have mixed types. Specify dtype option on import or set low_memory=False.\n",
      "  interactivity=interactivity, compiler=compiler, result=result)\n"
     ]
    },
    {
     "data": {
      "text/html": [
       "<div>\n",
       "<style scoped>\n",
       "    .dataframe tbody tr th:only-of-type {\n",
       "        vertical-align: middle;\n",
       "    }\n",
       "\n",
       "    .dataframe tbody tr th {\n",
       "        vertical-align: top;\n",
       "    }\n",
       "\n",
       "    .dataframe thead th {\n",
       "        text-align: right;\n",
       "    }\n",
       "</style>\n",
       "<table border=\"1\" class=\"dataframe\">\n",
       "  <thead>\n",
       "    <tr style=\"text-align: right;\">\n",
       "      <th></th>\n",
       "      <th>Num_Acc</th>\n",
       "      <th>catr</th>\n",
       "      <th>voie</th>\n",
       "      <th>v1</th>\n",
       "      <th>v2</th>\n",
       "      <th>circ</th>\n",
       "      <th>nbv</th>\n",
       "      <th>pr</th>\n",
       "      <th>pr1</th>\n",
       "      <th>vosp</th>\n",
       "      <th>prof</th>\n",
       "      <th>plan</th>\n",
       "      <th>lartpc</th>\n",
       "      <th>larrout</th>\n",
       "      <th>surf</th>\n",
       "      <th>infra</th>\n",
       "      <th>situ</th>\n",
       "      <th>env1</th>\n",
       "    </tr>\n",
       "  </thead>\n",
       "  <tbody>\n",
       "    <tr>\n",
       "      <th>0</th>\n",
       "      <td>201000000001</td>\n",
       "      <td>3</td>\n",
       "      <td>39</td>\n",
       "      <td>NaN</td>\n",
       "      <td>NaN</td>\n",
       "      <td>2.0</td>\n",
       "      <td>2.0</td>\n",
       "      <td>0.0</td>\n",
       "      <td>0.0</td>\n",
       "      <td>0.0</td>\n",
       "      <td>1.0</td>\n",
       "      <td>1.0</td>\n",
       "      <td>0.0</td>\n",
       "      <td>60.0</td>\n",
       "      <td>1.0</td>\n",
       "      <td>0.0</td>\n",
       "      <td>1.0</td>\n",
       "      <td>0.0</td>\n",
       "    </tr>\n",
       "    <tr>\n",
       "      <th>1</th>\n",
       "      <td>201000000002</td>\n",
       "      <td>3</td>\n",
       "      <td>39</td>\n",
       "      <td>NaN</td>\n",
       "      <td>NaN</td>\n",
       "      <td>2.0</td>\n",
       "      <td>0.0</td>\n",
       "      <td>0.0</td>\n",
       "      <td>0.0</td>\n",
       "      <td>0.0</td>\n",
       "      <td>1.0</td>\n",
       "      <td>1.0</td>\n",
       "      <td>0.0</td>\n",
       "      <td>0.0</td>\n",
       "      <td>1.0</td>\n",
       "      <td>0.0</td>\n",
       "      <td>1.0</td>\n",
       "      <td>0.0</td>\n",
       "    </tr>\n",
       "    <tr>\n",
       "      <th>2</th>\n",
       "      <td>201000000003</td>\n",
       "      <td>3</td>\n",
       "      <td>41</td>\n",
       "      <td>2.0</td>\n",
       "      <td>NaN</td>\n",
       "      <td>2.0</td>\n",
       "      <td>2.0</td>\n",
       "      <td>0.0</td>\n",
       "      <td>0.0</td>\n",
       "      <td>0.0</td>\n",
       "      <td>1.0</td>\n",
       "      <td>1.0</td>\n",
       "      <td>0.0</td>\n",
       "      <td>61.0</td>\n",
       "      <td>1.0</td>\n",
       "      <td>0.0</td>\n",
       "      <td>1.0</td>\n",
       "      <td>0.0</td>\n",
       "    </tr>\n",
       "    <tr>\n",
       "      <th>3</th>\n",
       "      <td>201000000004</td>\n",
       "      <td>3</td>\n",
       "      <td>39</td>\n",
       "      <td>NaN</td>\n",
       "      <td>NaN</td>\n",
       "      <td>2.0</td>\n",
       "      <td>2.0</td>\n",
       "      <td>0.0</td>\n",
       "      <td>0.0</td>\n",
       "      <td>0.0</td>\n",
       "      <td>1.0</td>\n",
       "      <td>1.0</td>\n",
       "      <td>0.0</td>\n",
       "      <td>68.0</td>\n",
       "      <td>1.0</td>\n",
       "      <td>0.0</td>\n",
       "      <td>1.0</td>\n",
       "      <td>0.0</td>\n",
       "    </tr>\n",
       "    <tr>\n",
       "      <th>4</th>\n",
       "      <td>201000000005</td>\n",
       "      <td>3</td>\n",
       "      <td>239</td>\n",
       "      <td>NaN</td>\n",
       "      <td>NaN</td>\n",
       "      <td>2.0</td>\n",
       "      <td>1.0</td>\n",
       "      <td>0.0</td>\n",
       "      <td>0.0</td>\n",
       "      <td>0.0</td>\n",
       "      <td>1.0</td>\n",
       "      <td>1.0</td>\n",
       "      <td>0.0</td>\n",
       "      <td>0.0</td>\n",
       "      <td>1.0</td>\n",
       "      <td>0.0</td>\n",
       "      <td>1.0</td>\n",
       "      <td>99.0</td>\n",
       "    </tr>\n",
       "  </tbody>\n",
       "</table>\n",
       "</div>"
      ],
      "text/plain": [
       "        Num_Acc  catr voie   v1   v2  circ  nbv   pr  pr1  vosp  prof  plan  \\\n",
       "0  201000000001     3   39  NaN  NaN   2.0  2.0  0.0  0.0   0.0   1.0   1.0   \n",
       "1  201000000002     3   39  NaN  NaN   2.0  0.0  0.0  0.0   0.0   1.0   1.0   \n",
       "2  201000000003     3   41  2.0  NaN   2.0  2.0  0.0  0.0   0.0   1.0   1.0   \n",
       "3  201000000004     3   39  NaN  NaN   2.0  2.0  0.0  0.0   0.0   1.0   1.0   \n",
       "4  201000000005     3  239  NaN  NaN   2.0  1.0  0.0  0.0   0.0   1.0   1.0   \n",
       "\n",
       "   lartpc  larrout  surf  infra  situ  env1  \n",
       "0     0.0     60.0   1.0    0.0   1.0   0.0  \n",
       "1     0.0      0.0   1.0    0.0   1.0   0.0  \n",
       "2     0.0     61.0   1.0    0.0   1.0   0.0  \n",
       "3     0.0     68.0   1.0    0.0   1.0   0.0  \n",
       "4     0.0      0.0   1.0    0.0   1.0  99.0  "
      ]
     },
     "execution_count": 4,
     "metadata": {},
     "output_type": "execute_result"
    }
   ],
   "source": [
    "file_list = list()\n",
    "for file in os.listdir():\n",
    "    df = pd.read_csv(file)\n",
    "    file_list.append(df)\n",
    "    \n",
    "df_lieux = pd.concat(file_list, axis=0, ignore_index=True)\n",
    "df_lieux.head()"
   ]
  },
  {
   "cell_type": "markdown",
   "metadata": {
    "ExecuteTime": {
     "end_time": "2019-03-09T17:59:31.321124Z",
     "start_time": "2019-03-09T17:59:31.305504Z"
    }
   },
   "source": [
    "### import vehicules"
   ]
  },
  {
   "cell_type": "code",
   "execution_count": 5,
   "metadata": {
    "ExecuteTime": {
     "end_time": "2019-04-01T10:57:14.000639Z",
     "start_time": "2019-04-01T10:57:13.985003Z"
    }
   },
   "outputs": [],
   "source": [
    "os.chdir('../vehicules')"
   ]
  },
  {
   "cell_type": "code",
   "execution_count": 6,
   "metadata": {
    "ExecuteTime": {
     "end_time": "2019-04-01T10:57:14.672344Z",
     "start_time": "2019-04-01T10:57:14.000639Z"
    }
   },
   "outputs": [
    {
     "data": {
      "text/html": [
       "<div>\n",
       "<style scoped>\n",
       "    .dataframe tbody tr th:only-of-type {\n",
       "        vertical-align: middle;\n",
       "    }\n",
       "\n",
       "    .dataframe tbody tr th {\n",
       "        vertical-align: top;\n",
       "    }\n",
       "\n",
       "    .dataframe thead th {\n",
       "        text-align: right;\n",
       "    }\n",
       "</style>\n",
       "<table border=\"1\" class=\"dataframe\">\n",
       "  <thead>\n",
       "    <tr style=\"text-align: right;\">\n",
       "      <th></th>\n",
       "      <th>Num_Acc</th>\n",
       "      <th>senc</th>\n",
       "      <th>catv</th>\n",
       "      <th>occutc</th>\n",
       "      <th>obs</th>\n",
       "      <th>obsm</th>\n",
       "      <th>choc</th>\n",
       "      <th>manv</th>\n",
       "      <th>num_veh</th>\n",
       "    </tr>\n",
       "  </thead>\n",
       "  <tbody>\n",
       "    <tr>\n",
       "      <th>0</th>\n",
       "      <td>201000000001</td>\n",
       "      <td>0.0</td>\n",
       "      <td>30</td>\n",
       "      <td>0</td>\n",
       "      <td>1.0</td>\n",
       "      <td>0.0</td>\n",
       "      <td>1.0</td>\n",
       "      <td>1.0</td>\n",
       "      <td>A01</td>\n",
       "    </tr>\n",
       "    <tr>\n",
       "      <th>1</th>\n",
       "      <td>201000000002</td>\n",
       "      <td>0.0</td>\n",
       "      <td>7</td>\n",
       "      <td>0</td>\n",
       "      <td>0.0</td>\n",
       "      <td>1.0</td>\n",
       "      <td>1.0</td>\n",
       "      <td>1.0</td>\n",
       "      <td>A01</td>\n",
       "    </tr>\n",
       "    <tr>\n",
       "      <th>2</th>\n",
       "      <td>201000000003</td>\n",
       "      <td>0.0</td>\n",
       "      <td>33</td>\n",
       "      <td>0</td>\n",
       "      <td>0.0</td>\n",
       "      <td>2.0</td>\n",
       "      <td>1.0</td>\n",
       "      <td>17.0</td>\n",
       "      <td>A01</td>\n",
       "    </tr>\n",
       "    <tr>\n",
       "      <th>3</th>\n",
       "      <td>201000000003</td>\n",
       "      <td>0.0</td>\n",
       "      <td>7</td>\n",
       "      <td>0</td>\n",
       "      <td>0.0</td>\n",
       "      <td>9.0</td>\n",
       "      <td>3.0</td>\n",
       "      <td>23.0</td>\n",
       "      <td>C03</td>\n",
       "    </tr>\n",
       "    <tr>\n",
       "      <th>4</th>\n",
       "      <td>201000000003</td>\n",
       "      <td>0.0</td>\n",
       "      <td>7</td>\n",
       "      <td>0</td>\n",
       "      <td>0.0</td>\n",
       "      <td>9.0</td>\n",
       "      <td>6.0</td>\n",
       "      <td>1.0</td>\n",
       "      <td>B02</td>\n",
       "    </tr>\n",
       "  </tbody>\n",
       "</table>\n",
       "</div>"
      ],
      "text/plain": [
       "        Num_Acc  senc  catv  occutc  obs  obsm  choc  manv num_veh\n",
       "0  201000000001   0.0    30       0  1.0   0.0   1.0   1.0     A01\n",
       "1  201000000002   0.0     7       0  0.0   1.0   1.0   1.0     A01\n",
       "2  201000000003   0.0    33       0  0.0   2.0   1.0  17.0     A01\n",
       "3  201000000003   0.0     7       0  0.0   9.0   3.0  23.0     C03\n",
       "4  201000000003   0.0     7       0  0.0   9.0   6.0   1.0     B02"
      ]
     },
     "execution_count": 6,
     "metadata": {},
     "output_type": "execute_result"
    }
   ],
   "source": [
    "file_list = list()\n",
    "for file in os.listdir():\n",
    "    df = pd.read_csv(file)\n",
    "    file_list.append(df)\n",
    "    \n",
    "df_vehicules = pd.concat(file_list, axis=0, ignore_index=True)\n",
    "df_vehicules.head()"
   ]
  },
  {
   "cell_type": "markdown",
   "metadata": {
    "ExecuteTime": {
     "end_time": "2019-03-09T17:59:31.321124Z",
     "start_time": "2019-03-09T17:59:31.305504Z"
    }
   },
   "source": [
    "### import usagers"
   ]
  },
  {
   "cell_type": "code",
   "execution_count": 7,
   "metadata": {
    "ExecuteTime": {
     "end_time": "2019-04-01T10:57:14.687963Z",
     "start_time": "2019-04-01T10:57:14.672344Z"
    }
   },
   "outputs": [],
   "source": [
    "os.chdir('../usagers')"
   ]
  },
  {
   "cell_type": "code",
   "execution_count": 8,
   "metadata": {
    "ExecuteTime": {
     "end_time": "2019-04-01T10:57:15.703348Z",
     "start_time": "2019-04-01T10:57:14.687963Z"
    }
   },
   "outputs": [
    {
     "data": {
      "text/html": [
       "<div>\n",
       "<style scoped>\n",
       "    .dataframe tbody tr th:only-of-type {\n",
       "        vertical-align: middle;\n",
       "    }\n",
       "\n",
       "    .dataframe tbody tr th {\n",
       "        vertical-align: top;\n",
       "    }\n",
       "\n",
       "    .dataframe thead th {\n",
       "        text-align: right;\n",
       "    }\n",
       "</style>\n",
       "<table border=\"1\" class=\"dataframe\">\n",
       "  <thead>\n",
       "    <tr style=\"text-align: right;\">\n",
       "      <th></th>\n",
       "      <th>Num_Acc</th>\n",
       "      <th>place</th>\n",
       "      <th>catu</th>\n",
       "      <th>grav</th>\n",
       "      <th>sexe</th>\n",
       "      <th>trajet</th>\n",
       "      <th>secu</th>\n",
       "      <th>locp</th>\n",
       "      <th>actp</th>\n",
       "      <th>etatp</th>\n",
       "      <th>an_nais</th>\n",
       "      <th>num_veh</th>\n",
       "    </tr>\n",
       "  </thead>\n",
       "  <tbody>\n",
       "    <tr>\n",
       "      <th>0</th>\n",
       "      <td>201000000001</td>\n",
       "      <td>1.0</td>\n",
       "      <td>1</td>\n",
       "      <td>3</td>\n",
       "      <td>1</td>\n",
       "      <td>5.0</td>\n",
       "      <td>21.0</td>\n",
       "      <td>0.0</td>\n",
       "      <td>0.0</td>\n",
       "      <td>0.0</td>\n",
       "      <td>1976.0</td>\n",
       "      <td>A01</td>\n",
       "    </tr>\n",
       "    <tr>\n",
       "      <th>1</th>\n",
       "      <td>201000000002</td>\n",
       "      <td>1.0</td>\n",
       "      <td>1</td>\n",
       "      <td>1</td>\n",
       "      <td>2</td>\n",
       "      <td>5.0</td>\n",
       "      <td>11.0</td>\n",
       "      <td>0.0</td>\n",
       "      <td>0.0</td>\n",
       "      <td>0.0</td>\n",
       "      <td>1983.0</td>\n",
       "      <td>A01</td>\n",
       "    </tr>\n",
       "    <tr>\n",
       "      <th>2</th>\n",
       "      <td>201000000002</td>\n",
       "      <td>NaN</td>\n",
       "      <td>3</td>\n",
       "      <td>3</td>\n",
       "      <td>1</td>\n",
       "      <td>0.0</td>\n",
       "      <td>NaN</td>\n",
       "      <td>4.0</td>\n",
       "      <td>3.0</td>\n",
       "      <td>1.0</td>\n",
       "      <td>1965.0</td>\n",
       "      <td>A01</td>\n",
       "    </tr>\n",
       "    <tr>\n",
       "      <th>3</th>\n",
       "      <td>201000000003</td>\n",
       "      <td>1.0</td>\n",
       "      <td>1</td>\n",
       "      <td>3</td>\n",
       "      <td>1</td>\n",
       "      <td>5.0</td>\n",
       "      <td>23.0</td>\n",
       "      <td>0.0</td>\n",
       "      <td>0.0</td>\n",
       "      <td>0.0</td>\n",
       "      <td>1979.0</td>\n",
       "      <td>A01</td>\n",
       "    </tr>\n",
       "    <tr>\n",
       "      <th>4</th>\n",
       "      <td>201000000003</td>\n",
       "      <td>1.0</td>\n",
       "      <td>1</td>\n",
       "      <td>1</td>\n",
       "      <td>2</td>\n",
       "      <td>5.0</td>\n",
       "      <td>11.0</td>\n",
       "      <td>0.0</td>\n",
       "      <td>0.0</td>\n",
       "      <td>0.0</td>\n",
       "      <td>1959.0</td>\n",
       "      <td>C03</td>\n",
       "    </tr>\n",
       "  </tbody>\n",
       "</table>\n",
       "</div>"
      ],
      "text/plain": [
       "        Num_Acc  place  catu  grav  sexe  trajet  secu  locp  actp  etatp  \\\n",
       "0  201000000001    1.0     1     3     1     5.0  21.0   0.0   0.0    0.0   \n",
       "1  201000000002    1.0     1     1     2     5.0  11.0   0.0   0.0    0.0   \n",
       "2  201000000002    NaN     3     3     1     0.0   NaN   4.0   3.0    1.0   \n",
       "3  201000000003    1.0     1     3     1     5.0  23.0   0.0   0.0    0.0   \n",
       "4  201000000003    1.0     1     1     2     5.0  11.0   0.0   0.0    0.0   \n",
       "\n",
       "   an_nais num_veh  \n",
       "0   1976.0     A01  \n",
       "1   1983.0     A01  \n",
       "2   1965.0     A01  \n",
       "3   1979.0     A01  \n",
       "4   1959.0     C03  "
      ]
     },
     "execution_count": 8,
     "metadata": {},
     "output_type": "execute_result"
    }
   ],
   "source": [
    "file_list = list()\n",
    "for file in os.listdir():\n",
    "    df = pd.read_csv(file)\n",
    "    file_list.append(df)\n",
    "    \n",
    "df_usagers = pd.concat(file_list, axis=0, ignore_index=True)\n",
    "df_usagers.head()"
   ]
  },
  {
   "cell_type": "markdown",
   "metadata": {
    "ExecuteTime": {
     "end_time": "2019-03-09T17:59:31.321124Z",
     "start_time": "2019-03-09T17:59:31.305504Z"
    }
   },
   "source": [
    "### import caracteristiques"
   ]
  },
  {
   "cell_type": "code",
   "execution_count": 9,
   "metadata": {
    "ExecuteTime": {
     "end_time": "2019-04-01T10:57:15.718969Z",
     "start_time": "2019-04-01T10:57:15.703348Z"
    }
   },
   "outputs": [],
   "source": [
    "os.chdir('../caracteristiques')"
   ]
  },
  {
   "cell_type": "code",
   "execution_count": 10,
   "metadata": {
    "ExecuteTime": {
     "end_time": "2019-04-01T10:57:16.578143Z",
     "start_time": "2019-04-01T10:57:15.718969Z"
    }
   },
   "outputs": [
    {
     "data": {
      "text/html": [
       "<div>\n",
       "<style scoped>\n",
       "    .dataframe tbody tr th:only-of-type {\n",
       "        vertical-align: middle;\n",
       "    }\n",
       "\n",
       "    .dataframe tbody tr th {\n",
       "        vertical-align: top;\n",
       "    }\n",
       "\n",
       "    .dataframe thead th {\n",
       "        text-align: right;\n",
       "    }\n",
       "</style>\n",
       "<table border=\"1\" class=\"dataframe\">\n",
       "  <thead>\n",
       "    <tr style=\"text-align: right;\">\n",
       "      <th></th>\n",
       "      <th>Num_Acc</th>\n",
       "      <th>an</th>\n",
       "      <th>mois</th>\n",
       "      <th>jour</th>\n",
       "      <th>hrmn</th>\n",
       "      <th>lum</th>\n",
       "      <th>agg</th>\n",
       "      <th>int</th>\n",
       "      <th>atm</th>\n",
       "      <th>col</th>\n",
       "      <th>com</th>\n",
       "      <th>adr</th>\n",
       "      <th>gps</th>\n",
       "      <th>lat</th>\n",
       "      <th>long</th>\n",
       "      <th>dep</th>\n",
       "      <th>annee</th>\n",
       "    </tr>\n",
       "  </thead>\n",
       "  <tbody>\n",
       "    <tr>\n",
       "      <th>0</th>\n",
       "      <td>201000000001</td>\n",
       "      <td>10</td>\n",
       "      <td>6</td>\n",
       "      <td>12</td>\n",
       "      <td>1930</td>\n",
       "      <td>1</td>\n",
       "      <td>2</td>\n",
       "      <td>1</td>\n",
       "      <td>1.0</td>\n",
       "      <td>6.0</td>\n",
       "      <td>52</td>\n",
       "      <td>71 RUE JEAN JAURES</td>\n",
       "      <td>M</td>\n",
       "      <td>0.0</td>\n",
       "      <td>0.0</td>\n",
       "      <td>590</td>\n",
       "      <td>2010</td>\n",
       "    </tr>\n",
       "    <tr>\n",
       "      <th>1</th>\n",
       "      <td>201000000002</td>\n",
       "      <td>10</td>\n",
       "      <td>8</td>\n",
       "      <td>7</td>\n",
       "      <td>1000</td>\n",
       "      <td>1</td>\n",
       "      <td>2</td>\n",
       "      <td>1</td>\n",
       "      <td>1.0</td>\n",
       "      <td>6.0</td>\n",
       "      <td>477</td>\n",
       "      <td>Rue Nationale</td>\n",
       "      <td>M</td>\n",
       "      <td>5051600.0</td>\n",
       "      <td>292000.0</td>\n",
       "      <td>590</td>\n",
       "      <td>2010</td>\n",
       "    </tr>\n",
       "    <tr>\n",
       "      <th>2</th>\n",
       "      <td>201000000003</td>\n",
       "      <td>10</td>\n",
       "      <td>9</td>\n",
       "      <td>11</td>\n",
       "      <td>1600</td>\n",
       "      <td>1</td>\n",
       "      <td>1</td>\n",
       "      <td>1</td>\n",
       "      <td>1.0</td>\n",
       "      <td>5.0</td>\n",
       "      <td>11</td>\n",
       "      <td>NaN</td>\n",
       "      <td>M</td>\n",
       "      <td>0.0</td>\n",
       "      <td>0.0</td>\n",
       "      <td>590</td>\n",
       "      <td>2010</td>\n",
       "    </tr>\n",
       "    <tr>\n",
       "      <th>3</th>\n",
       "      <td>201000000004</td>\n",
       "      <td>10</td>\n",
       "      <td>9</td>\n",
       "      <td>22</td>\n",
       "      <td>1630</td>\n",
       "      <td>1</td>\n",
       "      <td>2</td>\n",
       "      <td>1</td>\n",
       "      <td>1.0</td>\n",
       "      <td>6.0</td>\n",
       "      <td>477</td>\n",
       "      <td>43 rue Nationale</td>\n",
       "      <td>M</td>\n",
       "      <td>5051800.0</td>\n",
       "      <td>292500.0</td>\n",
       "      <td>590</td>\n",
       "      <td>2010</td>\n",
       "    </tr>\n",
       "    <tr>\n",
       "      <th>4</th>\n",
       "      <td>201000000005</td>\n",
       "      <td>10</td>\n",
       "      <td>10</td>\n",
       "      <td>25</td>\n",
       "      <td>1215</td>\n",
       "      <td>1</td>\n",
       "      <td>2</td>\n",
       "      <td>1</td>\n",
       "      <td>1.0</td>\n",
       "      <td>2.0</td>\n",
       "      <td>52</td>\n",
       "      <td>RUE GHESQUIERES</td>\n",
       "      <td>M</td>\n",
       "      <td>5050800.0</td>\n",
       "      <td>289700.0</td>\n",
       "      <td>590</td>\n",
       "      <td>2010</td>\n",
       "    </tr>\n",
       "  </tbody>\n",
       "</table>\n",
       "</div>"
      ],
      "text/plain": [
       "        Num_Acc  an  mois  jour  hrmn  lum  agg  int  atm  col  com  \\\n",
       "0  201000000001  10     6    12  1930    1    2    1  1.0  6.0   52   \n",
       "1  201000000002  10     8     7  1000    1    2    1  1.0  6.0  477   \n",
       "2  201000000003  10     9    11  1600    1    1    1  1.0  5.0   11   \n",
       "3  201000000004  10     9    22  1630    1    2    1  1.0  6.0  477   \n",
       "4  201000000005  10    10    25  1215    1    2    1  1.0  2.0   52   \n",
       "\n",
       "                  adr gps        lat      long  dep  annee  \n",
       "0  71 RUE JEAN JAURES   M        0.0       0.0  590   2010  \n",
       "1       Rue Nationale   M  5051600.0  292000.0  590   2010  \n",
       "2                 NaN   M        0.0       0.0  590   2010  \n",
       "3    43 rue Nationale   M  5051800.0  292500.0  590   2010  \n",
       "4     RUE GHESQUIERES   M  5050800.0  289700.0  590   2010  "
      ]
     },
     "execution_count": 10,
     "metadata": {},
     "output_type": "execute_result"
    }
   ],
   "source": [
    "file_list = list()\n",
    "for file in os.listdir():\n",
    "    index_year = file.find('2')\n",
    "    year = int(file[index_year:index_year+4])\n",
    "    df = pd.read_csv(file,encoding = \"ISO-8859-1\")\n",
    "    df['annee'] = year\n",
    "    file_list.append(df)\n",
    "    \n",
    "df_caracteristiques = pd.concat(file_list, axis=0, ignore_index=True)\n",
    "df_caracteristiques.head()"
   ]
  },
  {
   "cell_type": "code",
   "execution_count": 11,
   "metadata": {
    "ExecuteTime": {
     "end_time": "2019-04-01T10:57:16.593765Z",
     "start_time": "2019-04-01T10:57:16.578143Z"
    }
   },
   "outputs": [],
   "source": [
    "os.chdir('..')"
   ]
  },
  {
   "cell_type": "markdown",
   "metadata": {},
   "source": [
    "### Commune departement region"
   ]
  },
  {
   "cell_type": "code",
   "execution_count": 12,
   "metadata": {
    "ExecuteTime": {
     "end_time": "2019-04-01T10:57:17.905955Z",
     "start_time": "2019-04-01T10:57:16.593765Z"
    },
    "scrolled": true
   },
   "outputs": [
    {
     "data": {
      "text/html": [
       "<div>\n",
       "<style scoped>\n",
       "    .dataframe tbody tr th:only-of-type {\n",
       "        vertical-align: middle;\n",
       "    }\n",
       "\n",
       "    .dataframe tbody tr th {\n",
       "        vertical-align: top;\n",
       "    }\n",
       "\n",
       "    .dataframe thead th {\n",
       "        text-align: right;\n",
       "    }\n",
       "</style>\n",
       "<table border=\"1\" class=\"dataframe\">\n",
       "  <thead>\n",
       "    <tr style=\"text-align: right;\">\n",
       "      <th></th>\n",
       "      <th>Geo Point</th>\n",
       "      <th>Geo Shape</th>\n",
       "      <th>ID_GEOFLA</th>\n",
       "      <th>CODE_COM</th>\n",
       "      <th>INSEE_COM</th>\n",
       "      <th>NOM_COM</th>\n",
       "      <th>STATUT</th>\n",
       "      <th>X_CHF_LIEU</th>\n",
       "      <th>Y_CHF_LIEU</th>\n",
       "      <th>X_CENTROID</th>\n",
       "      <th>...</th>\n",
       "      <th>CODE_ARR</th>\n",
       "      <th>CODE_DEPT</th>\n",
       "      <th>NOM_DEPT</th>\n",
       "      <th>CODE_REG</th>\n",
       "      <th>NOM_REG</th>\n",
       "      <th>Ligne_5</th>\n",
       "      <th>Libelle_acheminement</th>\n",
       "      <th>Code_postal</th>\n",
       "      <th>Nom_commune</th>\n",
       "      <th>coordonnees_gps</th>\n",
       "    </tr>\n",
       "  </thead>\n",
       "  <tbody>\n",
       "    <tr>\n",
       "      <th>0</th>\n",
       "      <td>43.2213812599, -0.229479954692</td>\n",
       "      <td>{\"type\": \"Polygon\", \"coordinates\": [[[-0.21425...</td>\n",
       "      <td>COMMUNE00000000000012233</td>\n",
       "      <td>119</td>\n",
       "      <td>64119</td>\n",
       "      <td>BEUSTE</td>\n",
       "      <td>Commune simple</td>\n",
       "      <td>437369</td>\n",
       "      <td>6240814</td>\n",
       "      <td>437816</td>\n",
       "      <td>...</td>\n",
       "      <td>3.0</td>\n",
       "      <td>64</td>\n",
       "      <td>PYRENEES-ATLANTIQUES</td>\n",
       "      <td>75</td>\n",
       "      <td>AQUITAINE-LIMOUSIN-POITOU-CHARENTES</td>\n",
       "      <td>NaN</td>\n",
       "      <td>BEUSTE</td>\n",
       "      <td>64800.0</td>\n",
       "      <td>BEUSTE</td>\n",
       "      <td>43.2213812599, -0.229479954692</td>\n",
       "    </tr>\n",
       "  </tbody>\n",
       "</table>\n",
       "<p>1 rows × 25 columns</p>\n",
       "</div>"
      ],
      "text/plain": [
       "                        Geo Point  \\\n",
       "0  43.2213812599, -0.229479954692   \n",
       "\n",
       "                                           Geo Shape  \\\n",
       "0  {\"type\": \"Polygon\", \"coordinates\": [[[-0.21425...   \n",
       "\n",
       "                  ID_GEOFLA  CODE_COM INSEE_COM NOM_COM          STATUT  \\\n",
       "0  COMMUNE00000000000012233       119     64119  BEUSTE  Commune simple   \n",
       "\n",
       "   X_CHF_LIEU  Y_CHF_LIEU  X_CENTROID  ...  CODE_ARR  CODE_DEPT  \\\n",
       "0      437369     6240814      437816  ...       3.0         64   \n",
       "\n",
       "               NOM_DEPT  CODE_REG                              NOM_REG  \\\n",
       "0  PYRENEES-ATLANTIQUES        75  AQUITAINE-LIMOUSIN-POITOU-CHARENTES   \n",
       "\n",
       "   Ligne_5 Libelle_acheminement Code_postal  Nom_commune  \\\n",
       "0      NaN               BEUSTE     64800.0       BEUSTE   \n",
       "\n",
       "                  coordonnees_gps  \n",
       "0  43.2213812599, -0.229479954692  \n",
       "\n",
       "[1 rows x 25 columns]"
      ]
     },
     "execution_count": 12,
     "metadata": {},
     "output_type": "execute_result"
    }
   ],
   "source": [
    "df_insee = pd.read_csv('code-postal-code-insee-2015-not-modified.csv', sep=\";\")\n",
    "df_insee.head(1)"
   ]
  },
  {
   "cell_type": "markdown",
   "metadata": {
    "ExecuteTime": {
     "end_time": "2019-03-15T22:18:51.242218Z",
     "start_time": "2019-03-15T22:18:51.238065Z"
    }
   },
   "source": [
    "### Nombre d'habitant par département"
   ]
  },
  {
   "cell_type": "code",
   "execution_count": 13,
   "metadata": {
    "ExecuteTime": {
     "end_time": "2019-04-01T10:57:17.968439Z",
     "start_time": "2019-04-01T10:57:17.905955Z"
    }
   },
   "outputs": [
    {
     "data": {
      "text/html": [
       "<div>\n",
       "<style scoped>\n",
       "    .dataframe tbody tr th:only-of-type {\n",
       "        vertical-align: middle;\n",
       "    }\n",
       "\n",
       "    .dataframe tbody tr th {\n",
       "        vertical-align: top;\n",
       "    }\n",
       "\n",
       "    .dataframe thead th {\n",
       "        text-align: right;\n",
       "    }\n",
       "</style>\n",
       "<table border=\"1\" class=\"dataframe\">\n",
       "  <thead>\n",
       "    <tr style=\"text-align: right;\">\n",
       "      <th></th>\n",
       "      <th>code</th>\n",
       "      <th>departement</th>\n",
       "      <th>population</th>\n",
       "    </tr>\n",
       "  </thead>\n",
       "  <tbody>\n",
       "    <tr>\n",
       "      <th>0</th>\n",
       "      <td>01</td>\n",
       "      <td>Ain</td>\n",
       "      <td>643906</td>\n",
       "    </tr>\n",
       "    <tr>\n",
       "      <th>1</th>\n",
       "      <td>02</td>\n",
       "      <td>Aisne</td>\n",
       "      <td>533679</td>\n",
       "    </tr>\n",
       "    <tr>\n",
       "      <th>2</th>\n",
       "      <td>03</td>\n",
       "      <td>Allier</td>\n",
       "      <td>337439</td>\n",
       "    </tr>\n",
       "    <tr>\n",
       "      <th>3</th>\n",
       "      <td>04</td>\n",
       "      <td>Alpes-De-Haute-Provence</td>\n",
       "      <td>162473</td>\n",
       "    </tr>\n",
       "    <tr>\n",
       "      <th>4</th>\n",
       "      <td>05</td>\n",
       "      <td>Hautes-Alpes</td>\n",
       "      <td>141390</td>\n",
       "    </tr>\n",
       "  </tbody>\n",
       "</table>\n",
       "</div>"
      ],
      "text/plain": [
       "  code              departement  population\n",
       "0   01                      Ain      643906\n",
       "1   02                    Aisne      533679\n",
       "2   03                   Allier      337439\n",
       "3   04  Alpes-De-Haute-Provence      162473\n",
       "4   05             Hautes-Alpes      141390"
      ]
     },
     "execution_count": 13,
     "metadata": {},
     "output_type": "execute_result"
    }
   ],
   "source": [
    "df_habitant = pd.read_excel('estimation population 2017.xls')\n",
    "df_habitant.head()"
   ]
  },
  {
   "cell_type": "markdown",
   "metadata": {},
   "source": [
    "# Preparation data"
   ]
  },
  {
   "cell_type": "markdown",
   "metadata": {
    "ExecuteTime": {
     "end_time": "2019-03-09T18:30:55.479660Z",
     "start_time": "2019-03-09T18:30:55.464040Z"
    }
   },
   "source": [
    "## caracteristiques"
   ]
  },
  {
   "cell_type": "code",
   "execution_count": 14,
   "metadata": {
    "ExecuteTime": {
     "end_time": "2019-04-01T10:57:18.077789Z",
     "start_time": "2019-04-01T10:57:17.968439Z"
    }
   },
   "outputs": [],
   "source": [
    "# Selection useful columns\n",
    "df_caracteristiques = df_caracteristiques.loc[:,['Num_Acc','jour','mois','lum','dep','atm','col','lat','long','annee']]"
   ]
  },
  {
   "cell_type": "code",
   "execution_count": 15,
   "metadata": {
    "ExecuteTime": {
     "end_time": "2019-04-01T10:57:18.593600Z",
     "start_time": "2019-04-01T10:57:18.077789Z"
    }
   },
   "outputs": [],
   "source": [
    "# create date\n",
    "df_caracteristiques['date'] = df_caracteristiques['jour'].map(str) + '/' + df_caracteristiques['mois'].map(str) + '/' + df_caracteristiques['annee'].map(str)"
   ]
  },
  {
   "cell_type": "code",
   "execution_count": 16,
   "metadata": {
    "ExecuteTime": {
     "end_time": "2019-04-01T10:57:18.702684Z",
     "start_time": "2019-04-01T10:57:18.593600Z"
    }
   },
   "outputs": [],
   "source": [
    "# lattitude\n",
    "#df_caracteristiques['lat'] = df_caracteristiques['lat'].apply(lambda x: x/100000)\n",
    "df_caracteristiques['lat'] = df_caracteristiques['lat'].div(100000)"
   ]
  },
  {
   "cell_type": "code",
   "execution_count": 17,
   "metadata": {
    "ExecuteTime": {
     "end_time": "2019-04-01T10:57:18.718263Z",
     "start_time": "2019-04-01T10:57:18.702684Z"
    }
   },
   "outputs": [],
   "source": [
    "# longitude\n",
    "df_caracteristiques['long'] = df_caracteristiques['long'].div(100000)"
   ]
  },
  {
   "cell_type": "code",
   "execution_count": 18,
   "metadata": {
    "ExecuteTime": {
     "end_time": "2019-04-01T10:57:18.765141Z",
     "start_time": "2019-04-01T10:57:18.718263Z"
    }
   },
   "outputs": [],
   "source": [
    "df_caracteristiques = df_caracteristiques.drop(columns=['jour','mois'])"
   ]
  },
  {
   "cell_type": "code",
   "execution_count": 19,
   "metadata": {
    "ExecuteTime": {
     "end_time": "2019-04-01T10:57:18.827629Z",
     "start_time": "2019-04-01T10:57:18.765141Z"
    }
   },
   "outputs": [],
   "source": [
    "df_caracteristiques[['atm','col']] = df_caracteristiques[['atm','col']].astype('Int64')"
   ]
  },
  {
   "cell_type": "code",
   "execution_count": 20,
   "metadata": {
    "ExecuteTime": {
     "end_time": "2019-04-01T10:57:18.858855Z",
     "start_time": "2019-04-01T10:57:18.827629Z"
    }
   },
   "outputs": [],
   "source": [
    "df_caracteristiques.loc[df_caracteristiques['lat']==0,'lat']=np.nan\n",
    "df_caracteristiques.loc[df_caracteristiques['long']==0,'long']=np.nan"
   ]
  },
  {
   "cell_type": "code",
   "execution_count": 21,
   "metadata": {
    "ExecuteTime": {
     "end_time": "2019-04-01T10:57:18.874477Z",
     "start_time": "2019-04-01T10:57:18.858855Z"
    }
   },
   "outputs": [
    {
     "data": {
      "text/html": [
       "<div>\n",
       "<style scoped>\n",
       "    .dataframe tbody tr th:only-of-type {\n",
       "        vertical-align: middle;\n",
       "    }\n",
       "\n",
       "    .dataframe tbody tr th {\n",
       "        vertical-align: top;\n",
       "    }\n",
       "\n",
       "    .dataframe thead th {\n",
       "        text-align: right;\n",
       "    }\n",
       "</style>\n",
       "<table border=\"1\" class=\"dataframe\">\n",
       "  <thead>\n",
       "    <tr style=\"text-align: right;\">\n",
       "      <th></th>\n",
       "      <th>Num_Acc</th>\n",
       "      <th>lum</th>\n",
       "      <th>dep</th>\n",
       "      <th>atm</th>\n",
       "      <th>col</th>\n",
       "      <th>lat</th>\n",
       "      <th>long</th>\n",
       "      <th>annee</th>\n",
       "      <th>date</th>\n",
       "    </tr>\n",
       "  </thead>\n",
       "  <tbody>\n",
       "    <tr>\n",
       "      <th>0</th>\n",
       "      <td>201000000001</td>\n",
       "      <td>1</td>\n",
       "      <td>590</td>\n",
       "      <td>1</td>\n",
       "      <td>6</td>\n",
       "      <td>NaN</td>\n",
       "      <td>NaN</td>\n",
       "      <td>2010</td>\n",
       "      <td>12/6/2010</td>\n",
       "    </tr>\n",
       "    <tr>\n",
       "      <th>1</th>\n",
       "      <td>201000000002</td>\n",
       "      <td>1</td>\n",
       "      <td>590</td>\n",
       "      <td>1</td>\n",
       "      <td>6</td>\n",
       "      <td>50.516</td>\n",
       "      <td>2.920</td>\n",
       "      <td>2010</td>\n",
       "      <td>7/8/2010</td>\n",
       "    </tr>\n",
       "    <tr>\n",
       "      <th>2</th>\n",
       "      <td>201000000003</td>\n",
       "      <td>1</td>\n",
       "      <td>590</td>\n",
       "      <td>1</td>\n",
       "      <td>5</td>\n",
       "      <td>NaN</td>\n",
       "      <td>NaN</td>\n",
       "      <td>2010</td>\n",
       "      <td>11/9/2010</td>\n",
       "    </tr>\n",
       "    <tr>\n",
       "      <th>3</th>\n",
       "      <td>201000000004</td>\n",
       "      <td>1</td>\n",
       "      <td>590</td>\n",
       "      <td>1</td>\n",
       "      <td>6</td>\n",
       "      <td>50.518</td>\n",
       "      <td>2.925</td>\n",
       "      <td>2010</td>\n",
       "      <td>22/9/2010</td>\n",
       "    </tr>\n",
       "    <tr>\n",
       "      <th>4</th>\n",
       "      <td>201000000005</td>\n",
       "      <td>1</td>\n",
       "      <td>590</td>\n",
       "      <td>1</td>\n",
       "      <td>2</td>\n",
       "      <td>50.508</td>\n",
       "      <td>2.897</td>\n",
       "      <td>2010</td>\n",
       "      <td>25/10/2010</td>\n",
       "    </tr>\n",
       "  </tbody>\n",
       "</table>\n",
       "</div>"
      ],
      "text/plain": [
       "        Num_Acc  lum  dep  atm  col     lat   long  annee        date\n",
       "0  201000000001    1  590    1    6     NaN    NaN   2010   12/6/2010\n",
       "1  201000000002    1  590    1    6  50.516  2.920   2010    7/8/2010\n",
       "2  201000000003    1  590    1    5     NaN    NaN   2010   11/9/2010\n",
       "3  201000000004    1  590    1    6  50.518  2.925   2010   22/9/2010\n",
       "4  201000000005    1  590    1    2  50.508  2.897   2010  25/10/2010"
      ]
     },
     "execution_count": 21,
     "metadata": {},
     "output_type": "execute_result"
    }
   ],
   "source": [
    "df_caracteristiques.head()"
   ]
  },
  {
   "cell_type": "markdown",
   "metadata": {
    "ExecuteTime": {
     "end_time": "2019-03-09T18:49:26.653260Z",
     "start_time": "2019-03-09T18:49:26.637638Z"
    }
   },
   "source": [
    "## lieux"
   ]
  },
  {
   "cell_type": "code",
   "execution_count": 22,
   "metadata": {
    "ExecuteTime": {
     "end_time": "2019-04-01T10:57:18.983826Z",
     "start_time": "2019-04-01T10:57:18.874477Z"
    }
   },
   "outputs": [],
   "source": [
    "df_lieux = df_lieux.loc[:,['Num_Acc','plan']]"
   ]
  },
  {
   "cell_type": "code",
   "execution_count": 23,
   "metadata": {
    "ExecuteTime": {
     "end_time": "2019-04-01T10:57:19.030692Z",
     "start_time": "2019-04-01T10:57:18.983826Z"
    }
   },
   "outputs": [],
   "source": [
    "df_lieux[['plan']] = df_lieux[['plan']].astype('Int64')"
   ]
  },
  {
   "cell_type": "code",
   "execution_count": 24,
   "metadata": {
    "ExecuteTime": {
     "end_time": "2019-04-01T10:57:19.046310Z",
     "start_time": "2019-04-01T10:57:19.030692Z"
    }
   },
   "outputs": [
    {
     "data": {
      "text/html": [
       "<div>\n",
       "<style scoped>\n",
       "    .dataframe tbody tr th:only-of-type {\n",
       "        vertical-align: middle;\n",
       "    }\n",
       "\n",
       "    .dataframe tbody tr th {\n",
       "        vertical-align: top;\n",
       "    }\n",
       "\n",
       "    .dataframe thead th {\n",
       "        text-align: right;\n",
       "    }\n",
       "</style>\n",
       "<table border=\"1\" class=\"dataframe\">\n",
       "  <thead>\n",
       "    <tr style=\"text-align: right;\">\n",
       "      <th></th>\n",
       "      <th>Num_Acc</th>\n",
       "      <th>plan</th>\n",
       "    </tr>\n",
       "  </thead>\n",
       "  <tbody>\n",
       "    <tr>\n",
       "      <th>0</th>\n",
       "      <td>201000000001</td>\n",
       "      <td>1</td>\n",
       "    </tr>\n",
       "    <tr>\n",
       "      <th>1</th>\n",
       "      <td>201000000002</td>\n",
       "      <td>1</td>\n",
       "    </tr>\n",
       "    <tr>\n",
       "      <th>2</th>\n",
       "      <td>201000000003</td>\n",
       "      <td>1</td>\n",
       "    </tr>\n",
       "    <tr>\n",
       "      <th>3</th>\n",
       "      <td>201000000004</td>\n",
       "      <td>1</td>\n",
       "    </tr>\n",
       "    <tr>\n",
       "      <th>4</th>\n",
       "      <td>201000000005</td>\n",
       "      <td>1</td>\n",
       "    </tr>\n",
       "  </tbody>\n",
       "</table>\n",
       "</div>"
      ],
      "text/plain": [
       "        Num_Acc  plan\n",
       "0  201000000001     1\n",
       "1  201000000002     1\n",
       "2  201000000003     1\n",
       "3  201000000004     1\n",
       "4  201000000005     1"
      ]
     },
     "execution_count": 24,
     "metadata": {},
     "output_type": "execute_result"
    }
   ],
   "source": [
    "df_lieux.head()"
   ]
  },
  {
   "cell_type": "markdown",
   "metadata": {
    "ExecuteTime": {
     "end_time": "2019-03-09T20:48:52.774575Z",
     "start_time": "2019-03-09T20:48:52.759402Z"
    }
   },
   "source": [
    "## vehicules"
   ]
  },
  {
   "cell_type": "code",
   "execution_count": 25,
   "metadata": {
    "ExecuteTime": {
     "end_time": "2019-04-01T10:57:19.140039Z",
     "start_time": "2019-04-01T10:57:19.046310Z"
    }
   },
   "outputs": [],
   "source": [
    "df_vehicules = df_vehicules.loc[:,['Num_Acc','catv']]"
   ]
  },
  {
   "cell_type": "code",
   "execution_count": 26,
   "metadata": {
    "ExecuteTime": {
     "end_time": "2019-04-01T10:57:19.155660Z",
     "start_time": "2019-04-01T10:57:19.140039Z"
    }
   },
   "outputs": [
    {
     "data": {
      "text/html": [
       "<div>\n",
       "<style scoped>\n",
       "    .dataframe tbody tr th:only-of-type {\n",
       "        vertical-align: middle;\n",
       "    }\n",
       "\n",
       "    .dataframe tbody tr th {\n",
       "        vertical-align: top;\n",
       "    }\n",
       "\n",
       "    .dataframe thead th {\n",
       "        text-align: right;\n",
       "    }\n",
       "</style>\n",
       "<table border=\"1\" class=\"dataframe\">\n",
       "  <thead>\n",
       "    <tr style=\"text-align: right;\">\n",
       "      <th></th>\n",
       "      <th>Num_Acc</th>\n",
       "      <th>catv</th>\n",
       "    </tr>\n",
       "  </thead>\n",
       "  <tbody>\n",
       "    <tr>\n",
       "      <th>0</th>\n",
       "      <td>201000000001</td>\n",
       "      <td>30</td>\n",
       "    </tr>\n",
       "    <tr>\n",
       "      <th>1</th>\n",
       "      <td>201000000002</td>\n",
       "      <td>7</td>\n",
       "    </tr>\n",
       "    <tr>\n",
       "      <th>2</th>\n",
       "      <td>201000000003</td>\n",
       "      <td>33</td>\n",
       "    </tr>\n",
       "    <tr>\n",
       "      <th>3</th>\n",
       "      <td>201000000003</td>\n",
       "      <td>7</td>\n",
       "    </tr>\n",
       "    <tr>\n",
       "      <th>4</th>\n",
       "      <td>201000000003</td>\n",
       "      <td>7</td>\n",
       "    </tr>\n",
       "  </tbody>\n",
       "</table>\n",
       "</div>"
      ],
      "text/plain": [
       "        Num_Acc  catv\n",
       "0  201000000001    30\n",
       "1  201000000002     7\n",
       "2  201000000003    33\n",
       "3  201000000003     7\n",
       "4  201000000003     7"
      ]
     },
     "execution_count": 26,
     "metadata": {},
     "output_type": "execute_result"
    }
   ],
   "source": [
    "df_vehicules.head()"
   ]
  },
  {
   "cell_type": "markdown",
   "metadata": {},
   "source": [
    "## usagers"
   ]
  },
  {
   "cell_type": "code",
   "execution_count": 27,
   "metadata": {
    "ExecuteTime": {
     "end_time": "2019-04-01T10:57:19.311873Z",
     "start_time": "2019-04-01T10:57:19.155660Z"
    }
   },
   "outputs": [],
   "source": [
    "df_usagers = df_usagers.loc[:,['Num_Acc','grav']]"
   ]
  },
  {
   "cell_type": "code",
   "execution_count": 28,
   "metadata": {
    "ExecuteTime": {
     "end_time": "2019-04-01T10:57:19.327495Z",
     "start_time": "2019-04-01T10:57:19.311873Z"
    }
   },
   "outputs": [
    {
     "data": {
      "text/html": [
       "<div>\n",
       "<style scoped>\n",
       "    .dataframe tbody tr th:only-of-type {\n",
       "        vertical-align: middle;\n",
       "    }\n",
       "\n",
       "    .dataframe tbody tr th {\n",
       "        vertical-align: top;\n",
       "    }\n",
       "\n",
       "    .dataframe thead th {\n",
       "        text-align: right;\n",
       "    }\n",
       "</style>\n",
       "<table border=\"1\" class=\"dataframe\">\n",
       "  <thead>\n",
       "    <tr style=\"text-align: right;\">\n",
       "      <th></th>\n",
       "      <th>Num_Acc</th>\n",
       "      <th>grav</th>\n",
       "    </tr>\n",
       "  </thead>\n",
       "  <tbody>\n",
       "    <tr>\n",
       "      <th>0</th>\n",
       "      <td>201000000001</td>\n",
       "      <td>3</td>\n",
       "    </tr>\n",
       "    <tr>\n",
       "      <th>1</th>\n",
       "      <td>201000000002</td>\n",
       "      <td>1</td>\n",
       "    </tr>\n",
       "    <tr>\n",
       "      <th>2</th>\n",
       "      <td>201000000002</td>\n",
       "      <td>3</td>\n",
       "    </tr>\n",
       "    <tr>\n",
       "      <th>3</th>\n",
       "      <td>201000000003</td>\n",
       "      <td>3</td>\n",
       "    </tr>\n",
       "    <tr>\n",
       "      <th>4</th>\n",
       "      <td>201000000003</td>\n",
       "      <td>1</td>\n",
       "    </tr>\n",
       "  </tbody>\n",
       "</table>\n",
       "</div>"
      ],
      "text/plain": [
       "        Num_Acc  grav\n",
       "0  201000000001     3\n",
       "1  201000000002     1\n",
       "2  201000000002     3\n",
       "3  201000000003     3\n",
       "4  201000000003     1"
      ]
     },
     "execution_count": 28,
     "metadata": {},
     "output_type": "execute_result"
    }
   ],
   "source": [
    "df_usagers.head()"
   ]
  },
  {
   "cell_type": "markdown",
   "metadata": {
    "ExecuteTime": {
     "end_time": "2019-03-10T11:40:00.260447Z",
     "start_time": "2019-03-10T11:40:00.244490Z"
    }
   },
   "source": [
    "## Insee"
   ]
  },
  {
   "cell_type": "code",
   "execution_count": 29,
   "metadata": {
    "ExecuteTime": {
     "end_time": "2019-04-01T10:57:19.358738Z",
     "start_time": "2019-04-01T10:57:19.327495Z"
    }
   },
   "outputs": [],
   "source": [
    "df_insee = df_insee.loc[:,['CODE_DEPT','NOM_DEPT']]\n",
    "df_insee.columns = ['code departement','departement']\n",
    "df_insee['departement']=df_insee['departement'].str.title()"
   ]
  },
  {
   "cell_type": "code",
   "execution_count": 30,
   "metadata": {
    "ExecuteTime": {
     "end_time": "2019-04-01T10:57:19.421223Z",
     "start_time": "2019-04-01T10:57:19.358738Z"
    }
   },
   "outputs": [],
   "source": [
    "df_insee['code insee dep'] = df_insee['code departement'] + '0'\n",
    "df_insee.loc[df_insee['code departement']=='2A','code insee dep']='201'\n",
    "df_insee.loc[df_insee['code departement']=='2B','code insee dep']='202'\n",
    "df_insee['code insee dep'] = df_insee['code insee dep'].astype('int64')"
   ]
  },
  {
   "cell_type": "code",
   "execution_count": 31,
   "metadata": {
    "ExecuteTime": {
     "end_time": "2019-04-01T10:57:19.436844Z",
     "start_time": "2019-04-01T10:57:19.421223Z"
    }
   },
   "outputs": [],
   "source": [
    "df_insee = df_insee.drop(columns='code departement')"
   ]
  },
  {
   "cell_type": "code",
   "execution_count": 32,
   "metadata": {
    "ExecuteTime": {
     "end_time": "2019-04-01T10:57:19.452466Z",
     "start_time": "2019-04-01T10:57:19.436844Z"
    }
   },
   "outputs": [],
   "source": [
    "df_insee[['departement']] = df_insee[['departement']].astype(str)"
   ]
  },
  {
   "cell_type": "code",
   "execution_count": 33,
   "metadata": {
    "ExecuteTime": {
     "end_time": "2019-04-01T10:57:19.468088Z",
     "start_time": "2019-04-01T10:57:19.452466Z"
    }
   },
   "outputs": [
    {
     "data": {
      "text/html": [
       "<div>\n",
       "<style scoped>\n",
       "    .dataframe tbody tr th:only-of-type {\n",
       "        vertical-align: middle;\n",
       "    }\n",
       "\n",
       "    .dataframe tbody tr th {\n",
       "        vertical-align: top;\n",
       "    }\n",
       "\n",
       "    .dataframe thead th {\n",
       "        text-align: right;\n",
       "    }\n",
       "</style>\n",
       "<table border=\"1\" class=\"dataframe\">\n",
       "  <thead>\n",
       "    <tr style=\"text-align: right;\">\n",
       "      <th></th>\n",
       "      <th>departement</th>\n",
       "      <th>code insee dep</th>\n",
       "    </tr>\n",
       "  </thead>\n",
       "  <tbody>\n",
       "    <tr>\n",
       "      <th>0</th>\n",
       "      <td>Pyrenees-Atlantiques</td>\n",
       "      <td>640</td>\n",
       "    </tr>\n",
       "  </tbody>\n",
       "</table>\n",
       "</div>"
      ],
      "text/plain": [
       "            departement  code insee dep\n",
       "0  Pyrenees-Atlantiques             640"
      ]
     },
     "execution_count": 33,
     "metadata": {},
     "output_type": "execute_result"
    }
   ],
   "source": [
    "df_insee.head(1)"
   ]
  },
  {
   "cell_type": "code",
   "execution_count": 34,
   "metadata": {
    "ExecuteTime": {
     "end_time": "2019-04-01T10:57:19.483709Z",
     "start_time": "2019-04-01T10:57:19.468088Z"
    }
   },
   "outputs": [],
   "source": [
    "df_insee.drop_duplicates(keep='first', inplace=True)"
   ]
  },
  {
   "cell_type": "code",
   "execution_count": 35,
   "metadata": {
    "ExecuteTime": {
     "end_time": "2019-04-01T10:57:19.499329Z",
     "start_time": "2019-04-01T10:57:19.483709Z"
    }
   },
   "outputs": [
    {
     "data": {
      "text/plain": [
       "(101, 2)"
      ]
     },
     "execution_count": 35,
     "metadata": {},
     "output_type": "execute_result"
    }
   ],
   "source": [
    "df_insee.shape"
   ]
  },
  {
   "cell_type": "markdown",
   "metadata": {
    "ExecuteTime": {
     "end_time": "2019-03-09T18:28:05.629741Z",
     "start_time": "2019-03-09T18:28:05.614158Z"
    }
   },
   "source": [
    "## Join the dataframes"
   ]
  },
  {
   "cell_type": "code",
   "execution_count": 36,
   "metadata": {
    "ExecuteTime": {
     "end_time": "2019-04-01T10:57:19.921111Z",
     "start_time": "2019-04-01T10:57:19.499329Z"
    }
   },
   "outputs": [],
   "source": [
    "data = pd.merge(df_usagers, df_vehicules, how='left',on=['Num_Acc'])"
   ]
  },
  {
   "cell_type": "code",
   "execution_count": 37,
   "metadata": {
    "ExecuteTime": {
     "end_time": "2019-04-01T10:57:20.530338Z",
     "start_time": "2019-04-01T10:57:19.921111Z"
    }
   },
   "outputs": [],
   "source": [
    "data = pd.merge(data, df_caracteristiques, how='left',on=['Num_Acc'])"
   ]
  },
  {
   "cell_type": "code",
   "execution_count": 38,
   "metadata": {
    "ExecuteTime": {
     "end_time": "2019-04-01T10:57:21.123980Z",
     "start_time": "2019-04-01T10:57:20.530338Z"
    }
   },
   "outputs": [],
   "source": [
    "data = pd.merge(data, df_lieux, how='left',on=['Num_Acc'])\n"
   ]
  },
  {
   "cell_type": "code",
   "execution_count": 39,
   "metadata": {
    "ExecuteTime": {
     "end_time": "2019-04-01T10:57:21.623864Z",
     "start_time": "2019-04-01T10:57:21.123980Z"
    }
   },
   "outputs": [],
   "source": [
    "data = pd.merge(data, df_insee, how='left', left_on=['dep'], right_on=['code insee dep'])"
   ]
  },
  {
   "cell_type": "code",
   "execution_count": 40,
   "metadata": {
    "ExecuteTime": {
     "end_time": "2019-04-01T10:57:21.655073Z",
     "start_time": "2019-04-01T10:57:21.623864Z"
    }
   },
   "outputs": [
    {
     "data": {
      "text/html": [
       "<div>\n",
       "<style scoped>\n",
       "    .dataframe tbody tr th:only-of-type {\n",
       "        vertical-align: middle;\n",
       "    }\n",
       "\n",
       "    .dataframe tbody tr th {\n",
       "        vertical-align: top;\n",
       "    }\n",
       "\n",
       "    .dataframe thead th {\n",
       "        text-align: right;\n",
       "    }\n",
       "</style>\n",
       "<table border=\"1\" class=\"dataframe\">\n",
       "  <thead>\n",
       "    <tr style=\"text-align: right;\">\n",
       "      <th></th>\n",
       "      <th>Num_Acc</th>\n",
       "      <th>grav</th>\n",
       "      <th>catv</th>\n",
       "      <th>lum</th>\n",
       "      <th>dep</th>\n",
       "      <th>atm</th>\n",
       "      <th>col</th>\n",
       "      <th>lat</th>\n",
       "      <th>long</th>\n",
       "      <th>annee</th>\n",
       "      <th>date</th>\n",
       "      <th>plan</th>\n",
       "      <th>departement</th>\n",
       "      <th>code insee dep</th>\n",
       "    </tr>\n",
       "  </thead>\n",
       "  <tbody>\n",
       "    <tr>\n",
       "      <th>2087165</th>\n",
       "      <td>201700060700</td>\n",
       "      <td>4</td>\n",
       "      <td>7</td>\n",
       "      <td>1</td>\n",
       "      <td>976</td>\n",
       "      <td>1</td>\n",
       "      <td>3</td>\n",
       "      <td>12.76210</td>\n",
       "      <td>45.22609</td>\n",
       "      <td>2017</td>\n",
       "      <td>28/11/2017</td>\n",
       "      <td>1</td>\n",
       "      <td>NaN</td>\n",
       "      <td>NaN</td>\n",
       "    </tr>\n",
       "    <tr>\n",
       "      <th>2087166</th>\n",
       "      <td>201700060700</td>\n",
       "      <td>4</td>\n",
       "      <td>31</td>\n",
       "      <td>1</td>\n",
       "      <td>976</td>\n",
       "      <td>1</td>\n",
       "      <td>3</td>\n",
       "      <td>12.76210</td>\n",
       "      <td>45.22609</td>\n",
       "      <td>2017</td>\n",
       "      <td>28/11/2017</td>\n",
       "      <td>1</td>\n",
       "      <td>NaN</td>\n",
       "      <td>NaN</td>\n",
       "    </tr>\n",
       "    <tr>\n",
       "      <th>2087167</th>\n",
       "      <td>201700060700</td>\n",
       "      <td>4</td>\n",
       "      <td>7</td>\n",
       "      <td>1</td>\n",
       "      <td>976</td>\n",
       "      <td>1</td>\n",
       "      <td>3</td>\n",
       "      <td>12.76210</td>\n",
       "      <td>45.22609</td>\n",
       "      <td>2017</td>\n",
       "      <td>28/11/2017</td>\n",
       "      <td>1</td>\n",
       "      <td>NaN</td>\n",
       "      <td>NaN</td>\n",
       "    </tr>\n",
       "    <tr>\n",
       "      <th>2087168</th>\n",
       "      <td>201700060700</td>\n",
       "      <td>4</td>\n",
       "      <td>31</td>\n",
       "      <td>1</td>\n",
       "      <td>976</td>\n",
       "      <td>1</td>\n",
       "      <td>3</td>\n",
       "      <td>12.76210</td>\n",
       "      <td>45.22609</td>\n",
       "      <td>2017</td>\n",
       "      <td>28/11/2017</td>\n",
       "      <td>1</td>\n",
       "      <td>NaN</td>\n",
       "      <td>NaN</td>\n",
       "    </tr>\n",
       "    <tr>\n",
       "      <th>2087169</th>\n",
       "      <td>201700060701</td>\n",
       "      <td>4</td>\n",
       "      <td>31</td>\n",
       "      <td>3</td>\n",
       "      <td>976</td>\n",
       "      <td>1</td>\n",
       "      <td>6</td>\n",
       "      <td>12.81342</td>\n",
       "      <td>45.20169</td>\n",
       "      <td>2017</td>\n",
       "      <td>30/11/2017</td>\n",
       "      <td>1</td>\n",
       "      <td>NaN</td>\n",
       "      <td>NaN</td>\n",
       "    </tr>\n",
       "  </tbody>\n",
       "</table>\n",
       "</div>"
      ],
      "text/plain": [
       "              Num_Acc  grav  catv  lum  dep  atm  col       lat      long  \\\n",
       "2087165  201700060700     4     7    1  976    1    3  12.76210  45.22609   \n",
       "2087166  201700060700     4    31    1  976    1    3  12.76210  45.22609   \n",
       "2087167  201700060700     4     7    1  976    1    3  12.76210  45.22609   \n",
       "2087168  201700060700     4    31    1  976    1    3  12.76210  45.22609   \n",
       "2087169  201700060701     4    31    3  976    1    6  12.81342  45.20169   \n",
       "\n",
       "         annee        date  plan departement  code insee dep  \n",
       "2087165   2017  28/11/2017     1         NaN             NaN  \n",
       "2087166   2017  28/11/2017     1         NaN             NaN  \n",
       "2087167   2017  28/11/2017     1         NaN             NaN  \n",
       "2087168   2017  28/11/2017     1         NaN             NaN  \n",
       "2087169   2017  30/11/2017     1         NaN             NaN  "
      ]
     },
     "execution_count": 40,
     "metadata": {},
     "output_type": "execute_result"
    }
   ],
   "source": [
    "data.tail()"
   ]
  },
  {
   "cell_type": "code",
   "execution_count": 41,
   "metadata": {
    "ExecuteTime": {
     "end_time": "2019-04-01T10:57:22.033519Z",
     "start_time": "2019-04-01T10:57:21.655073Z"
    }
   },
   "outputs": [],
   "source": [
    "data.drop(columns=[\"dep\",\"code insee dep\"], inplace=True)"
   ]
  },
  {
   "cell_type": "code",
   "execution_count": 42,
   "metadata": {
    "ExecuteTime": {
     "end_time": "2019-04-01T10:57:22.049140Z",
     "start_time": "2019-04-01T10:57:22.033519Z"
    }
   },
   "outputs": [],
   "source": [
    "# We remove the rows without lattitude or longitude.\n",
    "#data.dropna(axis=0, how='any', subset=['lat'], inplace=True)\n",
    "#data.dropna(axis=0, how='any', subset=['long'], inplace=True)"
   ]
  },
  {
   "cell_type": "code",
   "execution_count": 43,
   "metadata": {
    "ExecuteTime": {
     "end_time": "2019-04-01T10:57:24.204886Z",
     "start_time": "2019-04-01T10:57:22.049140Z"
    }
   },
   "outputs": [
    {
     "name": "stdout",
     "output_type": "stream",
     "text": [
      "Num_Acc: 0\n",
      "grav: 0\n",
      "catv: 0\n",
      "lum: 0\n",
      "atm: 224\n",
      "col: 73\n",
      "lat: 1107647\n",
      "long: 1108198\n",
      "annee: 0\n",
      "date: 0\n",
      "plan: 8036\n",
      "departement: 63745\n"
     ]
    }
   ],
   "source": [
    "for column in data.columns:\n",
    "    na = sum(data[column].isna())\n",
    "    print('{}: {}'.format(column,na))"
   ]
  },
  {
   "cell_type": "markdown",
   "metadata": {
    "ExecuteTime": {
     "end_time": "2019-03-13T13:47:01.558719Z",
     "start_time": "2019-03-13T13:47:01.553734Z"
    }
   },
   "source": [
    "## Remove the latittude and longitude without sense"
   ]
  },
  {
   "cell_type": "code",
   "execution_count": 44,
   "metadata": {
    "ExecuteTime": {
     "end_time": "2019-04-01T10:57:24.595416Z",
     "start_time": "2019-04-01T10:57:24.204886Z"
    }
   },
   "outputs": [
    {
     "data": {
      "text/html": [
       "<div>\n",
       "<style scoped>\n",
       "    .dataframe tbody tr th:only-of-type {\n",
       "        vertical-align: middle;\n",
       "    }\n",
       "\n",
       "    .dataframe tbody tr th {\n",
       "        vertical-align: top;\n",
       "    }\n",
       "\n",
       "    .dataframe thead th {\n",
       "        text-align: right;\n",
       "    }\n",
       "</style>\n",
       "<table border=\"1\" class=\"dataframe\">\n",
       "  <thead>\n",
       "    <tr style=\"text-align: right;\">\n",
       "      <th></th>\n",
       "      <th>Num_Acc</th>\n",
       "      <th>grav</th>\n",
       "      <th>catv</th>\n",
       "      <th>lum</th>\n",
       "      <th>atm</th>\n",
       "      <th>col</th>\n",
       "      <th>lat</th>\n",
       "      <th>long</th>\n",
       "      <th>annee</th>\n",
       "      <th>date</th>\n",
       "      <th>plan</th>\n",
       "      <th>departement</th>\n",
       "    </tr>\n",
       "  </thead>\n",
       "  <tbody>\n",
       "    <tr>\n",
       "      <th>1</th>\n",
       "      <td>201000000002</td>\n",
       "      <td>1</td>\n",
       "      <td>7</td>\n",
       "      <td>1</td>\n",
       "      <td>1</td>\n",
       "      <td>6</td>\n",
       "      <td>50.516</td>\n",
       "      <td>2.920</td>\n",
       "      <td>2010</td>\n",
       "      <td>7/8/2010</td>\n",
       "      <td>1</td>\n",
       "      <td>Nord</td>\n",
       "    </tr>\n",
       "    <tr>\n",
       "      <th>2</th>\n",
       "      <td>201000000002</td>\n",
       "      <td>3</td>\n",
       "      <td>7</td>\n",
       "      <td>1</td>\n",
       "      <td>1</td>\n",
       "      <td>6</td>\n",
       "      <td>50.516</td>\n",
       "      <td>2.920</td>\n",
       "      <td>2010</td>\n",
       "      <td>7/8/2010</td>\n",
       "      <td>1</td>\n",
       "      <td>Nord</td>\n",
       "    </tr>\n",
       "    <tr>\n",
       "      <th>12</th>\n",
       "      <td>201000000004</td>\n",
       "      <td>3</td>\n",
       "      <td>1</td>\n",
       "      <td>1</td>\n",
       "      <td>1</td>\n",
       "      <td>6</td>\n",
       "      <td>50.518</td>\n",
       "      <td>2.925</td>\n",
       "      <td>2010</td>\n",
       "      <td>22/9/2010</td>\n",
       "      <td>1</td>\n",
       "      <td>Nord</td>\n",
       "    </tr>\n",
       "    <tr>\n",
       "      <th>13</th>\n",
       "      <td>201000000004</td>\n",
       "      <td>3</td>\n",
       "      <td>10</td>\n",
       "      <td>1</td>\n",
       "      <td>1</td>\n",
       "      <td>6</td>\n",
       "      <td>50.518</td>\n",
       "      <td>2.925</td>\n",
       "      <td>2010</td>\n",
       "      <td>22/9/2010</td>\n",
       "      <td>1</td>\n",
       "      <td>Nord</td>\n",
       "    </tr>\n",
       "    <tr>\n",
       "      <th>14</th>\n",
       "      <td>201000000004</td>\n",
       "      <td>1</td>\n",
       "      <td>1</td>\n",
       "      <td>1</td>\n",
       "      <td>1</td>\n",
       "      <td>6</td>\n",
       "      <td>50.518</td>\n",
       "      <td>2.925</td>\n",
       "      <td>2010</td>\n",
       "      <td>22/9/2010</td>\n",
       "      <td>1</td>\n",
       "      <td>Nord</td>\n",
       "    </tr>\n",
       "  </tbody>\n",
       "</table>\n",
       "</div>"
      ],
      "text/plain": [
       "         Num_Acc  grav  catv  lum  atm  col     lat   long  annee       date  \\\n",
       "1   201000000002     1     7    1    1    6  50.516  2.920   2010   7/8/2010   \n",
       "2   201000000002     3     7    1    1    6  50.516  2.920   2010   7/8/2010   \n",
       "12  201000000004     3     1    1    1    6  50.518  2.925   2010  22/9/2010   \n",
       "13  201000000004     3    10    1    1    6  50.518  2.925   2010  22/9/2010   \n",
       "14  201000000004     1     1    1    1    6  50.518  2.925   2010  22/9/2010   \n",
       "\n",
       "    plan departement  \n",
       "1      1        Nord  \n",
       "2      1        Nord  \n",
       "12     1        Nord  \n",
       "13     1        Nord  \n",
       "14     1        Nord  "
      ]
     },
     "execution_count": 44,
     "metadata": {},
     "output_type": "execute_result"
    }
   ],
   "source": [
    "data2 = data.copy()\n",
    "data2.dropna(axis=0,how='any',subset=['lat','long'],inplace=True)  # dropna\n",
    "data2.head()"
   ]
  },
  {
   "cell_type": "code",
   "execution_count": 45,
   "metadata": {
    "ExecuteTime": {
     "end_time": "2019-04-01T10:57:24.782874Z",
     "start_time": "2019-04-01T10:57:24.595416Z"
    }
   },
   "outputs": [],
   "source": [
    "data2 = data2.groupby('departement').agg({'lat':['mean', 'std'], \n",
    "                         'long':['mean','std']})\n",
    "data2.reset_index(inplace=True,drop=False)\n",
    "data2.columns = ['departement','lat_mean','lat_std','long_mean','long_std']"
   ]
  },
  {
   "cell_type": "code",
   "execution_count": 46,
   "metadata": {
    "ExecuteTime": {
     "end_time": "2019-04-01T10:57:25.423347Z",
     "start_time": "2019-04-01T10:57:24.782874Z"
    }
   },
   "outputs": [],
   "source": [
    "data = pd.merge(data, data2,how='left',on='departement')"
   ]
  },
  {
   "cell_type": "code",
   "execution_count": 47,
   "metadata": {
    "ExecuteTime": {
     "end_time": "2019-04-01T10:57:25.485834Z",
     "start_time": "2019-04-01T10:57:25.423347Z"
    }
   },
   "outputs": [],
   "source": [
    "data['sigma_interval_lat']= (data['lat']-data['lat_mean'])/data['lat_std']\n",
    "data['sigma_interval_long']= (data['long']-data['long_mean'])/data['long_std']"
   ]
  },
  {
   "cell_type": "code",
   "execution_count": 48,
   "metadata": {
    "ExecuteTime": {
     "end_time": "2019-04-01T10:57:25.860745Z",
     "start_time": "2019-04-01T10:57:25.485834Z"
    }
   },
   "outputs": [],
   "source": [
    "data.loc[data['sigma_interval_lat']>5,'lat']=np.nan\n",
    "data.loc[data['sigma_interval_long']>5,'long']=np.nan\n",
    "data.loc[data['sigma_interval_lat']<-5,'lat']=np.nan\n",
    "data.loc[data['sigma_interval_long']<-5,'long']=np.nan"
   ]
  },
  {
   "cell_type": "code",
   "execution_count": 49,
   "metadata": {
    "ExecuteTime": {
     "end_time": "2019-04-01T10:57:25.876378Z",
     "start_time": "2019-04-01T10:57:25.860745Z"
    }
   },
   "outputs": [],
   "source": [
    "#data[(data['departement']=='Sarthe') & (data['lat']<43)]"
   ]
  },
  {
   "cell_type": "code",
   "execution_count": 50,
   "metadata": {
    "ExecuteTime": {
     "end_time": "2019-04-01T10:57:26.016958Z",
     "start_time": "2019-04-01T10:57:25.876378Z"
    }
   },
   "outputs": [],
   "source": [
    "data = data.loc[:,:'departement']"
   ]
  },
  {
   "cell_type": "code",
   "execution_count": 51,
   "metadata": {
    "ExecuteTime": {
     "end_time": "2019-04-01T10:57:26.048200Z",
     "start_time": "2019-04-01T10:57:26.016958Z"
    }
   },
   "outputs": [
    {
     "data": {
      "text/html": [
       "<div>\n",
       "<style scoped>\n",
       "    .dataframe tbody tr th:only-of-type {\n",
       "        vertical-align: middle;\n",
       "    }\n",
       "\n",
       "    .dataframe tbody tr th {\n",
       "        vertical-align: top;\n",
       "    }\n",
       "\n",
       "    .dataframe thead th {\n",
       "        text-align: right;\n",
       "    }\n",
       "</style>\n",
       "<table border=\"1\" class=\"dataframe\">\n",
       "  <thead>\n",
       "    <tr style=\"text-align: right;\">\n",
       "      <th></th>\n",
       "      <th>Num_Acc</th>\n",
       "      <th>grav</th>\n",
       "      <th>catv</th>\n",
       "      <th>lum</th>\n",
       "      <th>atm</th>\n",
       "      <th>col</th>\n",
       "      <th>lat</th>\n",
       "      <th>long</th>\n",
       "      <th>annee</th>\n",
       "      <th>date</th>\n",
       "      <th>plan</th>\n",
       "      <th>departement</th>\n",
       "    </tr>\n",
       "  </thead>\n",
       "  <tbody>\n",
       "    <tr>\n",
       "      <th>0</th>\n",
       "      <td>201000000001</td>\n",
       "      <td>3</td>\n",
       "      <td>30</td>\n",
       "      <td>1</td>\n",
       "      <td>1</td>\n",
       "      <td>6</td>\n",
       "      <td>NaN</td>\n",
       "      <td>NaN</td>\n",
       "      <td>2010</td>\n",
       "      <td>12/6/2010</td>\n",
       "      <td>1</td>\n",
       "      <td>Nord</td>\n",
       "    </tr>\n",
       "    <tr>\n",
       "      <th>1</th>\n",
       "      <td>201000000002</td>\n",
       "      <td>1</td>\n",
       "      <td>7</td>\n",
       "      <td>1</td>\n",
       "      <td>1</td>\n",
       "      <td>6</td>\n",
       "      <td>50.516</td>\n",
       "      <td>2.92</td>\n",
       "      <td>2010</td>\n",
       "      <td>7/8/2010</td>\n",
       "      <td>1</td>\n",
       "      <td>Nord</td>\n",
       "    </tr>\n",
       "    <tr>\n",
       "      <th>2</th>\n",
       "      <td>201000000002</td>\n",
       "      <td>3</td>\n",
       "      <td>7</td>\n",
       "      <td>1</td>\n",
       "      <td>1</td>\n",
       "      <td>6</td>\n",
       "      <td>50.516</td>\n",
       "      <td>2.92</td>\n",
       "      <td>2010</td>\n",
       "      <td>7/8/2010</td>\n",
       "      <td>1</td>\n",
       "      <td>Nord</td>\n",
       "    </tr>\n",
       "    <tr>\n",
       "      <th>3</th>\n",
       "      <td>201000000003</td>\n",
       "      <td>3</td>\n",
       "      <td>33</td>\n",
       "      <td>1</td>\n",
       "      <td>1</td>\n",
       "      <td>5</td>\n",
       "      <td>NaN</td>\n",
       "      <td>NaN</td>\n",
       "      <td>2010</td>\n",
       "      <td>11/9/2010</td>\n",
       "      <td>1</td>\n",
       "      <td>Nord</td>\n",
       "    </tr>\n",
       "    <tr>\n",
       "      <th>4</th>\n",
       "      <td>201000000003</td>\n",
       "      <td>3</td>\n",
       "      <td>7</td>\n",
       "      <td>1</td>\n",
       "      <td>1</td>\n",
       "      <td>5</td>\n",
       "      <td>NaN</td>\n",
       "      <td>NaN</td>\n",
       "      <td>2010</td>\n",
       "      <td>11/9/2010</td>\n",
       "      <td>1</td>\n",
       "      <td>Nord</td>\n",
       "    </tr>\n",
       "  </tbody>\n",
       "</table>\n",
       "</div>"
      ],
      "text/plain": [
       "        Num_Acc  grav  catv  lum  atm  col     lat  long  annee       date  \\\n",
       "0  201000000001     3    30    1    1    6     NaN   NaN   2010  12/6/2010   \n",
       "1  201000000002     1     7    1    1    6  50.516  2.92   2010   7/8/2010   \n",
       "2  201000000002     3     7    1    1    6  50.516  2.92   2010   7/8/2010   \n",
       "3  201000000003     3    33    1    1    5     NaN   NaN   2010  11/9/2010   \n",
       "4  201000000003     3     7    1    1    5     NaN   NaN   2010  11/9/2010   \n",
       "\n",
       "   plan departement  \n",
       "0     1        Nord  \n",
       "1     1        Nord  \n",
       "2     1        Nord  \n",
       "3     1        Nord  \n",
       "4     1        Nord  "
      ]
     },
     "execution_count": 51,
     "metadata": {},
     "output_type": "execute_result"
    }
   ],
   "source": [
    "data.head()"
   ]
  },
  {
   "cell_type": "markdown",
   "metadata": {
    "ExecuteTime": {
     "end_time": "2019-03-09T21:06:44.803778Z",
     "start_time": "2019-03-09T21:06:44.788199Z"
    }
   },
   "source": [
    "# Export the data"
   ]
  },
  {
   "cell_type": "code",
   "execution_count": 52,
   "metadata": {
    "ExecuteTime": {
     "end_time": "2019-04-01T10:57:26.063822Z",
     "start_time": "2019-04-01T10:57:26.048200Z"
    }
   },
   "outputs": [
    {
     "data": {
      "text/plain": [
       "(2087170, 12)"
      ]
     },
     "execution_count": 52,
     "metadata": {},
     "output_type": "execute_result"
    }
   ],
   "source": [
    "data.shape"
   ]
  },
  {
   "cell_type": "code",
   "execution_count": 53,
   "metadata": {
    "ExecuteTime": {
     "end_time": "2019-04-01T10:57:54.556753Z",
     "start_time": "2019-04-01T10:57:26.063822Z"
    }
   },
   "outputs": [],
   "source": [
    "data.to_csv('data.csv',sep='\\t')\n",
    "df_insee.to_csv('code-postal-code-insee-2015-modified.csv', sep='\\t')"
   ]
  },
  {
   "cell_type": "code",
   "execution_count": 54,
   "metadata": {
    "ExecuteTime": {
     "end_time": "2019-04-01T10:57:54.572411Z",
     "start_time": "2019-04-01T10:57:54.556753Z"
    }
   },
   "outputs": [
    {
     "name": "stdout",
     "output_type": "stream",
     "text": [
      "Done\n"
     ]
    }
   ],
   "source": [
    "print(\"Done\")"
   ]
  }
 ],
 "metadata": {
  "kernelspec": {
   "display_name": "Python 3",
   "language": "python",
   "name": "python3"
  },
  "language_info": {
   "codemirror_mode": {
    "name": "ipython",
    "version": 3
   },
   "file_extension": ".py",
   "mimetype": "text/x-python",
   "name": "python",
   "nbconvert_exporter": "python",
   "pygments_lexer": "ipython3",
   "version": "3.6.6"
  },
  "toc": {
   "base_numbering": 1,
   "nav_menu": {},
   "number_sections": true,
   "sideBar": true,
   "skip_h1_title": false,
   "title_cell": "Table of Contents",
   "title_sidebar": "Contents",
   "toc_cell": false,
   "toc_position": {
    "height": "calc(100% - 180px)",
    "left": "10px",
    "top": "150px",
    "width": "294.4px"
   },
   "toc_section_display": true,
   "toc_window_display": true
  },
  "varInspector": {
   "cols": {
    "lenName": 16,
    "lenType": 16,
    "lenVar": 40
   },
   "kernels_config": {
    "python": {
     "delete_cmd_postfix": "",
     "delete_cmd_prefix": "del ",
     "library": "var_list.py",
     "varRefreshCmd": "print(var_dic_list())"
    },
    "r": {
     "delete_cmd_postfix": ") ",
     "delete_cmd_prefix": "rm(",
     "library": "var_list.r",
     "varRefreshCmd": "cat(var_dic_list()) "
    }
   },
   "types_to_exclude": [
    "module",
    "function",
    "builtin_function_or_method",
    "instance",
    "_Feature"
   ],
   "window_display": false
  }
 },
 "nbformat": 4,
 "nbformat_minor": 2
}
